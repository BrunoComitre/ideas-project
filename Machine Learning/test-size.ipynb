{
 "cells": [
  {
   "cell_type": "code",
   "execution_count": null,
   "metadata": {},
   "outputs": [],
   "source": [
    "#from ctypes import windll#only needed on windows to account for DPI Scaling \n",
    "#user32 = windll.user32\n",
    "#user32.SetProcessDPIAware()\n",
    "import os\n",
    "import time\n",
    "from PIL import Image\n",
    "import io\n",
    "from selenium import webdriver\n",
    "import numpy as np\n",
    "import matplotlib.pyplot as plt\n",
    "%matplotlib inline\n",
    "chrome_options = webdriver.ChromeOptions()\n",
    "#chrome_options.add_argument(\"--headless\")  \n",
    "prefs = {\"download.default_directory\" : os.getcwd()+\"/data\"}\n",
    "chrome_options.add_experimental_option(\"prefs\",prefs)\n",
    "driver = webdriver.Chrome(chrome_options=chrome_options)"
   ]
  },
  {
   "cell_type": "code",
   "execution_count": null,
   "metadata": {},
   "outputs": [],
   "source": [
    "driver.get('http://www.youtube.com/')"
   ]
  },
  {
   "cell_type": "code",
   "execution_count": null,
   "metadata": {},
   "outputs": [],
   "source": [
    "def show_image(image):\n",
    "    #this downsamples the image but shows it easily in our notebook\n",
    "    w = 16\n",
    "    h = 9\n",
    "    fig = plt.figure(frameon=False)\n",
    "    fig.set_size_inches(w,h)\n",
    "    #plt.imshow()#, aspect='auto',figsize = (10,10))\n",
    "    ax = plt.Axes(fig, [0., 0., 1., 1.])\n",
    "    ax.set_axis_off()\n",
    "    fig.add_axes(ax)\n",
    "    ax.imshow(image, aspect='auto')\n",
    "\n",
    "def get_screenshot(driver):\n",
    "    img=driver.get_screenshot_as_png()\n",
    "    image = Image.open(io.BytesIO(img)).convert(\"RGB\")#PIL opens images as a RGBA (alpha channel for transparency)\n",
    "    return np.asarray(image).astype(np.uint8)\n",
    "def show_screen(driver):\n",
    "    image=get_screenshot(driver)\n",
    "    show_image(image)"
   ]
  },
  {
   "cell_type": "code",
   "execution_count": null,
   "metadata": {},
   "outputs": [],
   "source": [
    "from selenium.webdriver.common.action_chains import ActionChains\n",
    "from selenium.webdriver.common.keys import Keys\n",
    "actions = ActionChains(driver)\n",
    "actions.send_keys('wiz')\n",
    "actions.send_keys(Keys.RETURN)\n",
    "actions.perform()\n",
    "show_screen(driver)"
   ]
  },
  {
   "cell_type": "code",
   "execution_count": null,
   "metadata": {},
   "outputs": [],
   "source": [
    "import cv2"
   ]
  },
  {
   "cell_type": "code",
   "execution_count": null,
   "metadata": {},
   "outputs": [],
   "source": [
    "driver.get_window_size()"
   ]
  },
  {
   "cell_type": "code",
   "execution_count": null,
   "metadata": {},
   "outputs": [],
   "source": [
    "element=driver.find_elements_by_xpath(\"//*[contains]\")[0]\n",
    "element.location"
   ]
  },
  {
   "cell_type": "code",
   "execution_count": null,
   "metadata": {},
   "outputs": [],
   "source": [
    "img=get_screenshot(driver)\n",
    "show_image(img)"
   ]
  },
  {
   "cell_type": "code",
   "execution_count": null,
   "metadata": {},
   "outputs": [],
   "source": [
    "#driver.set_window_size(844,800)\n",
    "def get_bbox_element(web_element):\n",
    "    window_size=driver.get_window_size()\n",
    "    pt_1=(web_element.location['x'], web_element.location['y'])\n",
    "    pt_2=(pt_1[0]+web_element.size['width'], pt_1[1]+web_element.size['height'])\n",
    "    x_scaling=1.25#my DPI scaling on windows for my PC\n",
    "    y_offset=0\n",
    "    mapped_points=(int(pt_1[0]*x_scaling), int(pt_1[1]*x_scaling)),\\\n",
    "    (int(pt_2[0]*x_scaling), int(pt_2[1]*x_scaling)),\n",
    "\n",
    "                  \n",
    "    return mapped_points\n",
    "img=get_screenshot(driver)\n",
    "for element in driver.find_elements_by_xpath(\"//*[contains(text(), 'Wiz')]\"):\n",
    "    bbox=get_bbox_element(element)\n",
    "    cv2.rectangle(img, bbox[0],bbox[1], (127,127,0),3)"
   ]
  },
  {
   "cell_type": "code",
   "execution_count": null,
   "metadata": {},
   "outputs": [],
   "source": [
    "show_image(img)\n",
    "cv2.imwrite(\"bounding_boxes.png\", cv2.cvtColor(img, cv2.COLOR_RGB2BGR))"
   ]
  },
  {
   "cell_type": "markdown",
   "metadata": {},
   "source": [
    "Com isso, você terá tudo o que precisa para começar a usar os imges. Ou treinar redes neurais usando imagens geradas por html. Você também pode gerar vídeo usando a biblioteca ffmpeg (veja o outro notebook)."
   ]
  }
 ],
 "metadata": {
  "kernelspec": {
   "display_name": "Python 3",
   "language": "python",
   "name": "python3"
  },
  "language_info": {
   "codemirror_mode": {
    "name": "ipython",
    "version": 3
   },
   "file_extension": ".py",
   "mimetype": "text/x-python",
   "name": "python",
   "nbconvert_exporter": "python",
   "pygments_lexer": "ipython3",
   "version": "3.8.3"
  }
 },
 "nbformat": 4,
 "nbformat_minor": 2
}
