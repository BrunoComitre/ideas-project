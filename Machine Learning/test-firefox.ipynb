{
 "cells": [
  {
   "cell_type": "code",
   "execution_count": null,
   "metadata": {},
   "outputs": [],
   "source": [
    "import os\n",
    "import time\n",
    "from PIL import Image\n",
    "import io\n",
    "from selenium import webdriver\n",
    "import numpy as np\n",
    "import matplotlib.pyplot as plt\n",
    "\n",
    "from selenium import webdriver\n",
    "from selenium.webdriver.common.by import By\n",
    "from selenium.webdriver.support.ui import Select\n",
    "from selenium.webdriver.support.ui import WebDriverWait\n",
    "from selenium.common.exceptions import NoSuchElementException\n",
    "from selenium.webdriver.support import expected_conditions as EC\n",
    "import unittest, time, re"
   ]
  },
  {
   "cell_type": "code",
   "execution_count": null,
   "metadata": {},
   "outputs": [],
   "source": [
    "#Desabilitar Cookies\n",
    "#fp = webdriver.FirefoxProfile()\n",
    "#fp.set_preference(\"network.cookie.cookieBehavior\", 2)\n",
    "#driver = webdriver.Firefox(firefox_profile=fp)"
   ]
  },
  {
   "cell_type": "code",
   "execution_count": null,
   "metadata": {},
   "outputs": [],
   "source": [
    "driver = webdriver.Firefox()\n",
    "url = 'https://urlW'\n",
    "driver.get(url)\n",
    "driver.set_window_size(1280, 680)\n",
    "#2.setWindowSize on 1280x680\n",
    "driver.find_element_by_id(\"213123\").click()\n",
    "driver.find_element_by_id(\"31434\").clear()\n",
    "driver.find_element_by_id(\"13434\").send_keys(\"1234\")\n",
    "driver.find_element_by_css_selector(\".134134\").click()\n",
    "driver.find_element_by_id(\"13434\").click()\n",
    "driver.find_element_by_id(\"13434\").clear()\n",
    "driver.find_element_by_id(\"13434\").send_keys(\"13434\")\n",
    "driver.find_element_by_css_selector(\".col-xs-6 > #Entrar\").click()\n",
    "driver.implicitly_wait(20) \n",
    "driver.find_element_by_link_text(\"Ir para Home\").click()\n",
    "driver.find_element_by_css_selector(\"css=#nm > img\").click\n",
    "driver.find_element_by_link_text(\"Não desejo ver esse tutorial\").click()\n",
    "driver.find_element_by_link_text(\"Entre\").click()\n",
    "driver.find_element_by_id(\"123\").click()\n",
    "driver.find_element_by_xpath(\"123\").click()\n",
    "driver.find_element_by_css_selector(\".wA\").click()\n",
    "driver.find_element_by_id(\"123\").click()\n",
    "driver.find_element_by_xpath(\"123\").click()\n",
    "driver.find_element_by_id(\"123\").click()\n",
    "driver.find_element_by_xpath(\"123\").click()\n",
    "driver.find_element_by_id(\"123\").click()\n",
    "\n",
    "driver.find_element_by_id(\"123\").click()"
   ]
  },
  {
   "cell_type": "code",
   "execution_count": null,
   "metadata": {},
   "outputs": [],
   "source": []
  },
  {
   "cell_type": "code",
   "execution_count": null,
   "metadata": {},
   "outputs": [],
   "source": [
    "from selenium import webdriver\n",
    "from selenium.webdriver.common.by import By\n",
    "from selenium.webdriver.support.ui import Select\n",
    "from selenium.common.exceptions import NoSuchElementException\n",
    "import unittest, time, re\n",
    "#from Funk_Lib import RS\n",
    "\n",
    "\n",
    "class CreatingEditingDeletingVault(unittest.TestCase):\n",
    "    def setUp(self):\n",
    "        self.driver = webdriver.Firefox()\n",
    "        self.driver.implicitly_wait(30)\n",
    "        self.base_url = \"https://urll\"\n",
    "        self.verificationErrors = []\n",
    "\n",
    "\n",
    "    def test_creating_editing_deleting_vault(self):\n",
    "        driver = self.driver\n",
    "        driver.get(self.base_url + \"/Login?contoller=Home\")\n",
    "        driver.find_element_by_id(\"UserName\").click()\n",
    "        driver.find_element_by_id(\"UserName\").clear()\n",
    "        driver.find_element_by_id(\"UserName\").send_keys(\"134m\")\n",
    "        driver.find_element_by_name(\"Password\").click()\n",
    "        driver.find_element_by_name(\"Password\").clear()\n",
    "        driver.find_element_by_name(\"Password\").send_keys(\"12343\")\n",
    "        driver.find_element_by_id(\"fat-btn\").click()\n",
    "        driver.get(self.base_url + \"/Content/Vaults/\")\n",
    "        driver.find_element_by_link_text(\"Content\").click()\n",
    "        driver.find_element_by_link_text(\"Vaults\").click()\n",
    "        driver.find_element_by_css_selector(\"button.btn.dropdown-toggle\").click()\n",
    "        driver.find_element_by_link_text(\"New vault\").click()\n",
    "        driver.find_element_by_name(\"Name\").clear()\n",
    "        driver.find_element_by_name(\"Name\").send_keys(\"Test Vault\")\n",
    "        driver.find_element_by_xpath(\"e\\\\']').val())\\\"]\").click()\n",
    "        driver.find_element_by_css_selector(\"button.btn.dro\").click()\n",
    "        driver.find_element_by_link_text(\"Rename vault\").click()\n",
    "        driver.find_element_by_name(\"Id\").click()\n",
    "        Select(driver.find_element_by_name(\"Id\")).select_by_visible_text(\"Test Vault\")\n",
    "        driver.find_element_by_css_selector(\"option[value=\\\"2\\\"]\").click()\n",
    "        driver.find_element_by_name(\"Name\").clear()\n",
    "        driver.find_element_by_name(\"Name\").send_keys(\"Test Change\")\n",
    "        driver.find_element_by_xpath(\"al(), $('#R=\\\\'Name\\\\']').val())\\\"]\").click()\n",
    "        driver.find_element_by_css_selector(\"button-toggle\").click()\n",
    "        driver.find_element_by_link_text(\"Delete \").click()\n",
    "        driver.find_element_by_name(\"Id\").click()\n",
    "        Select(driver.find_element_by_name(\"Id\")).select_by_visible_text(\"Test Change\")\n",
    "        driver.find_element_by_css_selector(\"o\"2\\\"]\").click()\n",
    "        driver.find_element_by_xpath(\"//bu\\']').val(), '')\\\"]\").click()\n",
    "\n",
    "    def is_element_present(self, how, what):\n",
    "        try:\n",
    "            self.driver.find_element(by=how, value=what)\n",
    "        except NoSuchElementException:\n",
    "                return False\n",
    "        return True\n",
    "\n",
    "    def tearDown(self):\n",
    "        self.driver.quit()\n",
    "        self.assertEqual([], self.verificationErrors)\n",
    "\n",
    "if __name__ == \"__main__\":\n",
    "    unittest.main()"
   ]
  },
  {
   "cell_type": "code",
   "execution_count": null,
   "metadata": {},
   "outputs": [],
   "source": [
    "def show_image(image):\n",
    "    #this downsamples the image but shows it easily in our notebook\n",
    "    w = 16\n",
    "    h = 9\n",
    "    fig = plt.figure(frameon=False)\n",
    "    fig.set_size_inches(w,h)\n",
    "    ax = plt.Axes(fig, [0., 0., 1., 1.])\n",
    "    ax.set_axis_off()\n",
    "    fig.add_axes(ax)\n",
    "    ax.imshow(image, aspect='auto')\n",
    "\n",
    "def get_screenshot(driver):\n",
    "    img=driver.get_screenshot_as_png()\n",
    "    image = Image.open(io.BytesIO(img)).convert(\"RGB\")#PIL opens images as a RGBA (alpha channel for transparency)\n",
    "    return np.asarray(image).astype(np.uint8)\n",
    "def show_screen(driver):\n",
    "    image=get_screenshot(driver)\n",
    "    show_image(image)"
   ]
  },
  {
   "cell_type": "code",
   "execution_count": null,
   "metadata": {},
   "outputs": [],
   "source": [
    "from selenium.webdriver.common.action_chains import ActionChains\n",
    "from selenium.webdriver.common.keys import Keys\n",
    "actions = ActionChains(driver)\n",
    "actions.send_keys('example')\n",
    "actions.send_keys(Keys.RETURN)\n",
    "actions.perform()\n",
    "show_screen(driver)"
   ]
  },
  {
   "cell_type": "code",
   "execution_count": null,
   "metadata": {},
   "outputs": [],
   "source": [
    "import cv2"
   ]
  },
  {
   "cell_type": "code",
   "execution_count": null,
   "metadata": {},
   "outputs": [],
   "source": [
    "driver.get_window_size()"
   ]
  },
  {
   "cell_type": "code",
   "execution_count": null,
   "metadata": {},
   "outputs": [],
   "source": [
    "element=driver.find_element_by_link_text(\"Forbidden\")[0]\n",
    "element.location"
   ]
  },
  {
   "cell_type": "code",
   "execution_count": null,
   "metadata": {},
   "outputs": [],
   "source": [
    "img=get_screenshot(driver)\n",
    "show_image(img)"
   ]
  },
  {
   "cell_type": "code",
   "execution_count": null,
   "metadata": {},
   "outputs": [],
   "source": [
    "#driver.set_window_size(844,800)\n",
    "def get_bbox_element(web_element):\n",
    "    window_size=driver.get_window_size()\n",
    "    pt_1=(web_element.location['x'], web_element.location['y'])\n",
    "    pt_2=(pt_1[0]+web_element.size['width'], pt_1[1]+web_element.size['height'])\n",
    "    x_scaling=0.8#my DPI scaling on windows for my PC\n",
    "    y_offset=0\n",
    "    mapped_points=(int(pt_1[0]*x_scaling), int(pt_1[1]*x_scaling)),\\\n",
    "    (int(pt_2[0]*x_scaling), int(pt_2[1]*x_scaling)),\n",
    "\n",
    "                  \n",
    "    return mapped_points\n",
    "img=get_screenshot(driver)\n",
    "for element in driver.find_elements_by_xpath(\"//*[contains(text(), 'Proibido')]\"):\n",
    "    bbox=get_bbox_element(element)\n",
    "    cv2.rectangle(img, bbox[0],bbox[1], (127,127,0),3)"
   ]
  },
  {
   "cell_type": "code",
   "execution_count": null,
   "metadata": {},
   "outputs": [],
   "source": [
    "show_image(img)\n",
    "cv2.imwrite(\"teste.png\", cv2.cvtColor(img, cv2.IMREAD_GRAYSCALE | cv2.THRESH_BINARY))"
   ]
  },
  {
   "cell_type": "code",
   "execution_count": null,
   "metadata": {},
   "outputs": [],
   "source": [
    "import pytesseract as ocr\n",
    "from PIL import Image\n",
    "\n",
    "phrase = ocr.image_to_string(Image.open('teste.png'), lang='por')\n",
    "print(phrase)"
   ]
  },
  {
   "cell_type": "code",
   "execution_count": null,
   "metadata": {},
   "outputs": [],
   "source": [
    "import requests"
   ]
  },
  {
   "cell_type": "code",
   "execution_count": null,
   "metadata": {},
   "outputs": [],
   "source": [
    "page = requests.get(url)"
   ]
  },
  {
   "cell_type": "code",
   "execution_count": null,
   "metadata": {},
   "outputs": [],
   "source": [
    "print(page);\n",
    "print(page.status_code);\n",
    "print(page.cookies);\n",
    "print(page.request)"
   ]
  },
  {
   "cell_type": "markdown",
   "metadata": {},
   "source": [
    "**Link:** [Código de Status HTTP](https://www.w3.org/Protocols/HTTP/1.1/draft-ietf-http-v11-spec-01#Status-Codes)"
   ]
  },
  {
   "cell_type": "code",
   "execution_count": null,
   "metadata": {},
   "outputs": [],
   "source": [
    "page.text"
   ]
  },
  {
   "cell_type": "code",
   "execution_count": null,
   "metadata": {},
   "outputs": [],
   "source": [
    "from bs4 import BeautifulSoup"
   ]
  },
  {
   "cell_type": "code",
   "execution_count": null,
   "metadata": {},
   "outputs": [],
   "source": [
    "soup = BeautifulSoup(page.text, 'html.parser')"
   ]
  },
  {
   "cell_type": "code",
   "execution_count": null,
   "metadata": {},
   "outputs": [],
   "source": [
    "print(soup.prettify())"
   ]
  },
  {
   "cell_type": "code",
   "execution_count": null,
   "metadata": {},
   "outputs": [],
   "source": [
    "import re, string, unicodedata\n",
    "import nltk\n",
    "import contractions\n",
    "import inflect\n",
    "from bs4 import BeautifulSoup\n",
    "from nltk import word_tokenize, sent_tokenize\n",
    "from nltk.corpus import stopwords\n",
    "from nltk.stem import LancasterStemmer, WordNetLemmatizer"
   ]
  },
  {
   "cell_type": "code",
   "execution_count": null,
   "metadata": {},
   "outputs": [],
   "source": [
    "def strip_html(text):\n",
    "    #soup = BeautifulSoup(text.text, \"html.parser\")\n",
    "    soup = BeautifulSoup(text, \"html.parser\")\n",
    "    return soup.get_text()\n",
    "\n",
    "def remove_between_square_brackets(text):\n",
    "    return re.sub('\\[[^]]*\\]', '', text)\n",
    "\n",
    "def denoise_text(text):\n",
    "    text = strip_html(text)\n",
    "    text = remove_between_square_brackets(text)\n",
    "    return text\n",
    "\n",
    "#page = denoise_text(page)\n",
    "page = denoise_text(phrase)\n",
    "print(page)"
   ]
  },
  {
   "cell_type": "code",
   "execution_count": null,
   "metadata": {},
   "outputs": [],
   "source": [
    "def replace_contractions(text): # Replace contractions in string of text\n",
    "    return contractions.fix(text)\n",
    "\n",
    "page = replace_contractions(page)\n",
    "print(page)"
   ]
  },
  {
   "cell_type": "code",
   "execution_count": null,
   "metadata": {},
   "outputs": [],
   "source": [
    "words = nltk.word_tokenize(page)\n",
    "print(words)"
   ]
  },
  {
   "cell_type": "code",
   "execution_count": null,
   "metadata": {},
   "outputs": [],
   "source": [
    "def remove_non_ascii(words): # Remove não ASCII\n",
    "    new_words = []\n",
    "    for word in words:\n",
    "        new_word = unicodedata.normalize('NFKD', word).encode('ascii', 'ignore').decode('utf-8', 'ignore')\n",
    "        new_words.append(new_word)\n",
    "    return new_words\n",
    "\n",
    "def to_lowercase(words): # Converte minusculo\n",
    "    new_words = []\n",
    "    for word in words:\n",
    "        new_word = word.lower()\n",
    "        new_words.append(new_word)\n",
    "    return new_words\n",
    "\n",
    "def remove_punctuation(words): # Remove pontuação\n",
    "    new_words = []\n",
    "    for word in words:\n",
    "        new_word = re.sub(r'[^\\w\\s]', '', word)\n",
    "        if new_word != '':\n",
    "            new_words.append(new_word)\n",
    "    return new_words\n",
    "\n",
    "def replace_numbers(words): # Replace all interger occurrences with textual representation\n",
    "    p = inflect.engine()\n",
    "    new_words = []\n",
    "    for word in words:\n",
    "        if word.isdigit():\n",
    "            new_word = p.number_to_words(word)\n",
    "            new_words.append(new_word)\n",
    "        else:\n",
    "            new_words.append(word)\n",
    "    return new_words\n",
    "\n",
    "def remove_stopwords(words): # Remove stopwords\n",
    "    new_words = []\n",
    "    for word in words:\n",
    "        if word not in stopwords.words('portuguese'):\n",
    "            new_words.append(word)\n",
    "    return new_words\n",
    "\n",
    "def stem_words(words): #Stem words\n",
    "    stemmer = LancasterStemmer()\n",
    "    stems = []\n",
    "    for word in words:\n",
    "        stem = stemmer.stem(word)\n",
    "        stems.append(stem)\n",
    "    return stems\n",
    "\n",
    "def lemmatize_verbs(words): # Lemma\n",
    "    lemmatizer = WordNetLemmatizer()\n",
    "    lemmas = []\n",
    "    for word in words:\n",
    "        lemma = lemmatizer.lemmatize(word, pos='v')\n",
    "        lemmas.append(lemma)\n",
    "    return lemmas\n",
    "\n",
    "def normalize(words):\n",
    "    words = remove_non_ascii(words)\n",
    "    words = to_lowercase(words)\n",
    "    words = remove_punctuation(words)\n",
    "    words = replace_numbers(words)\n",
    "    words = remove_stopwords(words)\n",
    "    return words\n",
    "\n",
    "words = normalize(words)\n",
    "print(words)"
   ]
  },
  {
   "cell_type": "code",
   "execution_count": null,
   "metadata": {},
   "outputs": [],
   "source": [
    "def stem_and_lemmatize(words):\n",
    "    stems = stem_words(words)\n",
    "    lemmas = lemmatize_verbs(words)\n",
    "    return stems, lemmas\n",
    "\n",
    "stems, lemmas = stem_and_lemmatize(words)\n",
    "print('Stemmed:\\n', stems)\n",
    "print('\\nLemmatized:\\n', lemmas)"
   ]
  },
  {
   "cell_type": "code",
   "execution_count": null,
   "metadata": {},
   "outputs": [],
   "source": [
    "from collections import Counter\n",
    "\n",
    "cnt = Counter()\n",
    "for word in lemmas:\n",
    "    cnt[word] += 1\n",
    "cnt"
   ]
  },
  {
   "cell_type": "code",
   "execution_count": null,
   "metadata": {},
   "outputs": [],
   "source": [
    "cnt.values()"
   ]
  },
  {
   "cell_type": "code",
   "execution_count": null,
   "metadata": {},
   "outputs": [],
   "source": [
    "import csv"
   ]
  },
  {
   "cell_type": "code",
   "execution_count": null,
   "metadata": {},
   "outputs": [],
   "source": [
    "f = csv.writer(open('guarda_base.csv', 'w'))\n",
    "f.writerow(['Name'])"
   ]
  },
  {
   "cell_type": "code",
   "execution_count": null,
   "metadata": {},
   "outputs": [],
   "source": [
    "for artist_name in words:\n",
    "    names = words\n",
    "    \n",
    "    f.writerow([names])"
   ]
  }
 ],
 "metadata": {
  "kernelspec": {
   "display_name": "Python 3",
   "language": "python",
   "name": "python3"
  },
  "language_info": {
   "codemirror_mode": {
    "name": "ipython",
    "version": 3
   },
   "file_extension": ".py",
   "mimetype": "text/x-python",
   "name": "python",
   "nbconvert_exporter": "python",
   "pygments_lexer": "ipython3",
   "version": "3.8.3"
  }
 },
 "nbformat": 4,
 "nbformat_minor": 2
}
