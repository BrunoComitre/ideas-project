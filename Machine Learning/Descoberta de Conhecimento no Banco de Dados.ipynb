{
 "cells": [
  {
   "cell_type": "markdown",
   "metadata": {},
   "source": [
    "<p>&nbsp;</p>\n",
    "</p><h1 style=\"text-align: center;\"><strong>Criação de API</strong></h1>\n",
    "<h1 style=\"text-align: center;\"><strong>Para recebimento de dados comportamentais</strong></h1>\n",
    "<p>&nbsp;</p><p>&nbsp;</p><p>&nbsp;</p>"
   ]
  },
  {
   "cell_type": "markdown",
   "metadata": {},
   "source": [
    "## Imports"
   ]
  },
  {
   "cell_type": "code",
   "execution_count": null,
   "metadata": {},
   "outputs": [],
   "source": [
    "# IMPORTS\n",
    "\n",
    "import pandas as pd # processamento dos dados\n",
    "pd.set_option('display.max_columns', 100)\n",
    "\n",
    "import numpy as np  # algebra linear\n",
    "pd.options.display.float_format = '{:.2f}'.format\n",
    "\n",
    "import json\n",
    "import ijson\n",
    "\n",
    "from json_encoder import json\n",
    "from pandas.io.json import json_normalize # pacote para achatar json em pandas"
   ]
  },
  {
   "cell_type": "markdown",
   "metadata": {},
   "source": [
    "## Leitura e Descrição dos Dados"
   ]
  },
  {
   "cell_type": "code",
   "execution_count": null,
   "metadata": {},
   "outputs": [],
   "source": [
    "# LENDO DOS DADOS \n",
    "\n",
    "data = pd.read_json(\"req.json\", encoding='utf-8')\n",
    "data.head(2)"
   ]
  },
  {
   "cell_type": "code",
   "execution_count": null,
   "metadata": {},
   "outputs": [],
   "source": [
    "data.describe()"
   ]
  },
  {
   "cell_type": "code",
   "execution_count": null,
   "metadata": {},
   "outputs": [],
   "source": [
    "# PRIMEIRA REMOÇÃO DE COLUNAS SEM UTILIZAÇÃO\n",
    "\n",
    "columns_to_drop = ['_id', '_rev']\n",
    "\n",
    "data.drop(columns_to_drop, axis=1, inplace=True)\n",
    "\n",
    "data.head()"
   ]
  },
  {
   "cell_type": "code",
   "execution_count": null,
   "metadata": {},
   "outputs": [],
   "source": [
    "data = pd.DataFrame([md for md in data['requisicoes']])\n",
    "data.head(2)"
   ]
  },
  {
   "cell_type": "code",
   "execution_count": null,
   "metadata": {},
   "outputs": [],
   "source": [
    "# SEGUNDA REMOÇÃO DE COLUNAS SEM UTILIZAÇÃO\n",
    "\n",
    "columns_to_drop = ['hash', 'id', 'url']\n",
    "\n",
    "data.drop(columns_to_drop, axis=1, inplace=True)\n",
    "\n",
    "data.head()"
   ]
  },
  {
   "cell_type": "code",
   "execution_count": null,
   "metadata": {},
   "outputs": [],
   "source": [
    "data['parsed'].head(2)"
   ]
  },
  {
   "cell_type": "code",
   "execution_count": null,
   "metadata": {},
   "outputs": [],
   "source": [
    "data['raw'].head(2)"
   ]
  },
  {
   "cell_type": "markdown",
   "metadata": {},
   "source": [
    "## Separação PARSED e RAW"
   ]
  },
  {
   "cell_type": "markdown",
   "metadata": {},
   "source": [
    "### PARSED"
   ]
  },
  {
   "cell_type": "code",
   "execution_count": null,
   "metadata": {},
   "outputs": [],
   "source": [
    "data_parsed = pd.DataFrame([md for md in data['parsed']])\n",
    "data_parsed.head(2)"
   ]
  },
  {
   "cell_type": "markdown",
   "metadata": {},
   "source": [
    "#### Requisição"
   ]
  },
  {
   "cell_type": "code",
   "execution_count": null,
   "metadata": {},
   "outputs": [],
   "source": [
    "parsed_requisicao = pd.DataFrame([md for md in data_parsed['req']])\n",
    "parsed_requisicao.head()\n",
    "\n",
    "#OBS: ALGUNS BODY TEM DADO -NÃO REMOVER-"
   ]
  },
  {
   "cell_type": "markdown",
   "metadata": {},
   "source": [
    "##### body"
   ]
  },
  {
   "cell_type": "code",
   "execution_count": null,
   "metadata": {},
   "outputs": [],
   "source": [
    "parsed_requisicao_body = pd.DataFrame([md for md in parsed_requisicao['body']])\n",
    "parsed_requisicao_body.head()"
   ]
  },
  {
   "cell_type": "markdown",
   "metadata": {},
   "source": [
    "##### header"
   ]
  },
  {
   "cell_type": "code",
   "execution_count": null,
   "metadata": {},
   "outputs": [],
   "source": [
    "parsed_requisicao_header = pd.DataFrame([md for md in parsed_requisicao['header']])\n",
    "parsed_requisicao_header.head()"
   ]
  },
  {
   "cell_type": "markdown",
   "metadata": {},
   "source": [
    "##### tipoMime"
   ]
  },
  {
   "cell_type": "code",
   "execution_count": null,
   "metadata": {},
   "outputs": [],
   "source": [
    "parsed_requisicao.groupby(['tipoMime']).size().reset_index(name='Quantity')"
   ]
  },
  {
   "cell_type": "code",
   "execution_count": null,
   "metadata": {},
   "outputs": [],
   "source": [
    "parsed_requisicao_tipoMime = pd.DataFrame([md for md in parsed_requisicao['tipoMime']])\n",
    "parsed_requisicao_tipoMime.head()"
   ]
  },
  {
   "cell_type": "code",
   "execution_count": null,
   "metadata": {},
   "outputs": [],
   "source": [
    "tipoMime_par_req = pd.get_dummies(parsed_requisicao.tipoMime)\n",
    "tipoMime_par_req.sum()"
   ]
  },
  {
   "cell_type": "code",
   "execution_count": null,
   "metadata": {},
   "outputs": [],
   "source": [
    "# REMOÇÃO DE COLUNAS SEM UTILIZAÇÃO\n",
    "\n",
    "columns_to_drop = ['']\n",
    "\n",
    "tipoMime_par_req.drop(columns_to_drop, axis=1, inplace=True)\n",
    "\n",
    "tipoMime_par_req.head()"
   ]
  },
  {
   "cell_type": "markdown",
   "metadata": {},
   "source": [
    "#### Resposta"
   ]
  },
  {
   "cell_type": "code",
   "execution_count": null,
   "metadata": {},
   "outputs": [],
   "source": [
    "parsed_resposta = pd.DataFrame([md for md in data_parsed['resposta']])\n",
    "parsed_resposta.head(2)"
   ]
  },
  {
   "cell_type": "markdown",
   "metadata": {},
   "source": [
    "##### body"
   ]
  },
  {
   "cell_type": "code",
   "execution_count": null,
   "metadata": {},
   "outputs": [],
   "source": [
    "parsed_resposta_body = pd.DataFrame([parsed_resposta['body']  for column_names in parsed_resposta])\n",
    "parsed_resposta_body.head()"
   ]
  },
  {
   "cell_type": "markdown",
   "metadata": {},
   "source": [
    "##### header"
   ]
  },
  {
   "cell_type": "code",
   "execution_count": null,
   "metadata": {},
   "outputs": [],
   "source": [
    "parsed_resposta_header = pd.DataFrame([parsed_resposta['header']  for column_names in parsed_resposta])\n",
    "parsed_resposta_header.head()"
   ]
  },
  {
   "cell_type": "markdown",
   "metadata": {},
   "source": [
    "##### tipoMime"
   ]
  },
  {
   "cell_type": "code",
   "execution_count": null,
   "metadata": {},
   "outputs": [],
   "source": [
    "parsed_resposta.groupby(['tipoMime']).size().reset_index(name='Quantity')"
   ]
  },
  {
   "cell_type": "code",
   "execution_count": null,
   "metadata": {},
   "outputs": [],
   "source": [
    "parsed_resposta_tipoMime = pd.DataFrame([md for md in parsed_resposta['tipoMime']])\n",
    "parsed_resposta_tipoMime.head()"
   ]
  },
  {
   "cell_type": "code",
   "execution_count": null,
   "metadata": {},
   "outputs": [],
   "source": [
    "tipoMime_par_rsp = pd.get_dummies(parsed_resposta.tipoMime)\n",
    "tipoMime_par_rsp.sum()"
   ]
  },
  {
   "cell_type": "code",
   "execution_count": null,
   "metadata": {},
   "outputs": [],
   "source": [
    "# REMOÇÃO DE COLUNAS SEM UTILIZAÇÃO\n",
    "\n",
    "columns_to_drop = ['CSS', 'GIF', 'JPEG', 'PNG', '']\n",
    "tipoMime_par_rsp.drop(columns_to_drop, axis=1, inplace=True)\n",
    "tipoMime_par_rsp.head()"
   ]
  },
  {
   "cell_type": "markdown",
   "metadata": {},
   "source": [
    "### RAW"
   ]
  },
  {
   "cell_type": "code",
   "execution_count": null,
   "metadata": {},
   "outputs": [],
   "source": [
    "data_requisicao = pd.DataFrame([md for md in data['raw']])\n",
    "data_requisicao.head(2)"
   ]
  },
  {
   "cell_type": "markdown",
   "metadata": {},
   "source": [
    "#### Requisição"
   ]
  },
  {
   "cell_type": "code",
   "execution_count": null,
   "metadata": {},
   "outputs": [],
   "source": [
    "raw_requisicao = pd.DataFrame([md for md in data_requisicao['requisicao']])\n",
    "raw_requisicao.head(2)"
   ]
  },
  {
   "cell_type": "markdown",
   "metadata": {},
   "source": [
    "##### body"
   ]
  },
  {
   "cell_type": "code",
   "execution_count": null,
   "metadata": {},
   "outputs": [],
   "source": [
    "raw_requisicao_body = pd.DataFrame([md for md in raw_requisicao['body']])\n",
    "raw_requisicao_body.head()"
   ]
  },
  {
   "cell_type": "markdown",
   "metadata": {},
   "source": [
    "##### header"
   ]
  },
  {
   "cell_type": "code",
   "execution_count": null,
   "metadata": {},
   "outputs": [],
   "source": [
    "raw_requisicao_header = pd.DataFrame([md for md in raw_requisicao['header']])\n",
    "raw_requisicao_header.head()"
   ]
  },
  {
   "cell_type": "markdown",
   "metadata": {},
   "source": [
    "##### tipoMime"
   ]
  },
  {
   "cell_type": "code",
   "execution_count": null,
   "metadata": {},
   "outputs": [],
   "source": [
    "raw_requisicao.groupby(['tipoMime']).size().reset_index(name='Quantity')"
   ]
  },
  {
   "cell_type": "code",
   "execution_count": null,
   "metadata": {},
   "outputs": [],
   "source": [
    "raw_requisicao_tipoMime = pd.DataFrame([md for md in raw_requisicao['tipoMime']])\n",
    "raw_requisicao_tipoMime.head()"
   ]
  },
  {
   "cell_type": "code",
   "execution_count": null,
   "metadata": {},
   "outputs": [],
   "source": [
    "tipoMime_raw_req = pd.get_dummies(raw_requisicao.tipoMime)\n",
    "tipoMime_raw_req.sum()"
   ]
  },
  {
   "cell_type": "code",
   "execution_count": null,
   "metadata": {},
   "outputs": [],
   "source": [
    "# REMOÇÃO DE COLUNAS SEM UTILIZAÇÃO\n",
    "\n",
    "columns_to_drop = ['']\n",
    "tipoMime_raw_req.drop(columns_to_drop, axis=1, inplace=True)\n",
    "tipoMime_raw_req.head()"
   ]
  },
  {
   "cell_type": "markdown",
   "metadata": {},
   "source": [
    "#### Resposta"
   ]
  },
  {
   "cell_type": "code",
   "execution_count": null,
   "metadata": {},
   "outputs": [],
   "source": [
    "raw_resposta = pd.DataFrame([md for md in data_requisicao['resposta']])\n",
    "raw_resposta.head(2)"
   ]
  },
  {
   "cell_type": "markdown",
   "metadata": {},
   "source": [
    "##### body"
   ]
  },
  {
   "cell_type": "code",
   "execution_count": null,
   "metadata": {},
   "outputs": [],
   "source": [
    "raw_resposta_body = pd.DataFrame([md for md in raw_resposta['body']])\n",
    "raw_resposta_body.head()"
   ]
  },
  {
   "cell_type": "markdown",
   "metadata": {},
   "source": [
    "##### header"
   ]
  },
  {
   "cell_type": "code",
   "execution_count": null,
   "metadata": {},
   "outputs": [],
   "source": [
    "raw_resposta_header = pd.DataFrame([raw_resposta['header']  for column_names in raw_resposta])\n",
    "raw_resposta_header.head()"
   ]
  },
  {
   "cell_type": "markdown",
   "metadata": {},
   "source": [
    "##### tipoMime"
   ]
  },
  {
   "cell_type": "code",
   "execution_count": null,
   "metadata": {},
   "outputs": [],
   "source": [
    "raw_resposta.groupby(['tipoMime']).size().reset_index(name='Quantity')"
   ]
  },
  {
   "cell_type": "code",
   "execution_count": null,
   "metadata": {},
   "outputs": [],
   "source": [
    "raw_resposta_tipoMime = pd.DataFrame([md for md in raw_resposta['tipoMime']])\n",
    "raw_resposta_tipoMime.head()"
   ]
  },
  {
   "cell_type": "code",
   "execution_count": null,
   "metadata": {},
   "outputs": [],
   "source": [
    "tipoMime_raw_rsp = pd.get_dummies(raw_resposta.tipoMime)\n",
    "tipoMime_raw_rsp.sum()"
   ]
  },
  {
   "cell_type": "code",
   "execution_count": null,
   "metadata": {},
   "outputs": [],
   "source": [
    "# REMOÇÃO DE COLUNAS SEM UTILIZAÇÃO\n",
    "\n",
    "columns_to_drop = ['CSS', 'GIF', 'JPEG', 'PNG', '']\n",
    "tipoMime_raw_rsp.drop(columns_to_drop, axis=1, inplace=True)\n",
    "tipoMime_raw_rsp.head()"
   ]
  },
  {
   "cell_type": "markdown",
   "metadata": {},
   "source": [
    "## Insights"
   ]
  },
  {
   "cell_type": "code",
   "execution_count": null,
   "metadata": {},
   "outputs": [],
   "source": [
    "raw_resposta_body.head(2)"
   ]
  },
  {
   "cell_type": "code",
   "execution_count": null,
   "metadata": {},
   "outputs": [],
   "source": [
    "rbr = pd.DataFrame([md for md in raw_resposta_body[0]])\n",
    "rbr.head(2)"
   ]
  },
  {
   "cell_type": "code",
   "execution_count": null,
   "metadata": {},
   "outputs": [],
   "source": [
    "rbr = rbr[0:5]"
   ]
  },
  {
   "cell_type": "code",
   "execution_count": null,
   "metadata": {},
   "outputs": [],
   "source": [
    "rbr"
   ]
  },
  {
   "cell_type": "code",
   "execution_count": null,
   "metadata": {},
   "outputs": [],
   "source": [
    "rbs = pd.get_dummies(rbr)\n",
    "rbs"
   ]
  },
  {
   "cell_type": "code",
   "execution_count": null,
   "metadata": {},
   "outputs": [],
   "source": [
    "rbg = pd.DataFrame(rbs)\n",
    "rbg"
   ]
  },
  {
   "cell_type": "code",
   "execution_count": null,
   "metadata": {},
   "outputs": [],
   "source": []
  },
  {
   "cell_type": "code",
   "execution_count": null,
   "metadata": {},
   "outputs": [],
   "source": [
    "ssdss = pd.get_dummies(rbg)\n",
    "ssdss"
   ]
  },
  {
   "cell_type": "markdown",
   "metadata": {},
   "source": [
    "## Custoso Computacionalmente"
   ]
  },
  {
   "cell_type": "code",
   "execution_count": null,
   "metadata": {},
   "outputs": [],
   "source": [
    "parsed_resposta_header"
   ]
  },
  {
   "cell_type": "code",
   "execution_count": null,
   "metadata": {},
   "outputs": [],
   "source": [
    "dd = pd.DataFrame([md for md in parsed_resposta_header])\n",
    "dd.head(2)"
   ]
  },
  {
   "cell_type": "code",
   "execution_count": null,
   "metadata": {},
   "outputs": [],
   "source": [
    "sd = pd.DataFrame([md for md in parsed_resposta_header[0]])\n",
    "sd.head(2)"
   ]
  },
  {
   "cell_type": "code",
   "execution_count": null,
   "metadata": {},
   "outputs": [],
   "source": [
    "wq = pd.DataFrame([md for md in sd[0]])\n",
    "wq.head()"
   ]
  },
  {
   "cell_type": "code",
   "execution_count": null,
   "metadata": {},
   "outputs": [],
   "source": [
    "ssdss = pd.get_dummies(wq)\n",
    "ssdss.sum()"
   ]
  },
  {
   "cell_type": "code",
   "execution_count": null,
   "metadata": {},
   "outputs": [],
   "source": []
  },
  {
   "cell_type": "code",
   "execution_count": null,
   "metadata": {},
   "outputs": [],
   "source": [
    "rew = {\"header\": [\"GET /js HTTP/1.1\",\n",
    "            \"Host: example.com.br\",\n",
    "            \"Connection: close\",\n",
    "            \"User-Agent: Mozilla/5.0 (Macintosh; Intel Mac OS X 10_14_2) AppleWebKit/537.36 (KHTML, like Gecko) Chrome/71.0.3578.98 Safari/537.36\",\n",
    "            \"Accept: */*\",\n",
    "            \"Referer: https://true\",\n",
    "            \"Accept-Encoding: gzip, deflate\",\n",
    "            \"Accept-Language: en-US,en;q=0.9\",\n",
    "            \"Cookie: 7983789759=\"\n",
    "            ]}"
   ]
  },
  {
   "cell_type": "code",
   "execution_count": null,
   "metadata": {},
   "outputs": [],
   "source": [
    "rew"
   ]
  },
  {
   "cell_type": "code",
   "execution_count": null,
   "metadata": {},
   "outputs": [],
   "source": [
    "print(type(rew))"
   ]
  },
  {
   "cell_type": "code",
   "execution_count": null,
   "metadata": {},
   "outputs": [],
   "source": [
    "buio = dict(rew)\n",
    "print(buio)"
   ]
  },
  {
   "cell_type": "code",
   "execution_count": null,
   "metadata": {},
   "outputs": [],
   "source": [
    "ret = buio['header']\n",
    "ret"
   ]
  },
  {
   "cell_type": "code",
   "execution_count": null,
   "metadata": {},
   "outputs": [],
   "source": [
    "mask = np.array(ret.pop(), dtype=np.bool)"
   ]
  },
  {
   "cell_type": "code",
   "execution_count": null,
   "metadata": {},
   "outputs": [],
   "source": [
    "df = pd.DataFrame(rew)\n",
    "df"
   ]
  },
  {
   "cell_type": "code",
   "execution_count": null,
   "metadata": {},
   "outputs": [],
   "source": [
    "print(df)"
   ]
  },
  {
   "cell_type": "code",
   "execution_count": null,
   "metadata": {},
   "outputs": [],
   "source": [
    "ssdss = pd.get_dummies(df)\n",
    "ssdss\n"
   ]
  },
  {
   "cell_type": "markdown",
   "metadata": {},
   "source": [
    "## Mapas de Calor"
   ]
  },
  {
   "cell_type": "code",
   "execution_count": null,
   "metadata": {},
   "outputs": [],
   "source": [
    "import seaborn as sns\n",
    "\n",
    "sns.heatmap(tipoMime_par_rsp)"
   ]
  },
  {
   "cell_type": "code",
   "execution_count": null,
   "metadata": {},
   "outputs": [],
   "source": [
    "sns.heatmap(parsed_resposta.isnull())"
   ]
  },
  {
   "cell_type": "code",
   "execution_count": null,
   "metadata": {},
   "outputs": [],
   "source": [
    "sns.heatmap(tipoMime_par_rsp.isnull())"
   ]
  },
  {
   "cell_type": "code",
   "execution_count": null,
   "metadata": {},
   "outputs": [],
   "source": [
    "sns.heatmap(parsed_resposta_header.isnull())"
   ]
  },
  {
   "cell_type": "markdown",
   "metadata": {},
   "source": [
    "# Possiveis dados a serem utilizados"
   ]
  },
  {
   "cell_type": "markdown",
   "metadata": {},
   "source": [
    "- Credencial\n",
    "- IP\n",
    "- Type\n",
    "- Subnet\n",
    "- Tag\n",
    "- Number of algo\n",
    "- Diretórios\n",
    "- Data\n",
    "- Server? Pc? Mobile?\n",
    "- Portas\n",
    "- HTTP / SMB / SSL / UNKNOWN\n",
    "- Type Subnet\n",
    "- Connection Status\n",
    "- Protocols\n",
    "- TCP / UDP / ICMP\n",
    "\n",
    "---\n",
    "\n",
    "**Pesquisar mais afundo:**\n",
    "\n",
    "- EndPoint e AccessPoint\n",
    "- Processamento por escala\n",
    "- Dados Supervisionados\n",
    "- Limite de Eventos\n",
    "- Transações\n",
    "- Limite de customs\n",
    "- Logs? - Acho que não\n",
    "- Captura de HTML / JS / CSS via tags\n",
    "- Pipeline\n",
    "- Hadoop Estrutura\n",
    "- Amazon S3 - Usado para esse tipo de processamento\n",
    "- OS HEADER ',' E OS BODY '\\N'\n",
    "\n",
    "---\n",
    "| TELA | ACESSO|\n",
    "|------|-------|\n",
    "|Source|       |\n",
    "|TAG   |       |\n",
    "|FROM  |       |\n",
    "|TO    |       |"
   ]
  },
  {
   "cell_type": "markdown",
   "metadata": {
    "heading_collapsed": true
   },
   "source": [
    "# Links"
   ]
  },
  {
   "cell_type": "markdown",
   "metadata": {
    "hidden": true
   },
   "source": [
    "SEPARADO PORQUE É MUITO BOM\n",
    "\n",
    "https://www.qubole.com/resources/using-big-data-tools-analyze-web-analytics-data/"
   ]
  },
  {
   "cell_type": "markdown",
   "metadata": {
    "hidden": true
   },
   "source": [
    "https://www.youtube.com/watch?v=7_Q8VqVH_fc\n",
    "\n",
    "http://www.simafore.com/blog/3-challenges-with-naive-bayes-classifiers-and-how-to-overcome\n",
    "\n",
    "http://www.antispam.br/admin/greylisting/\n",
    "\n",
    "https://pt.wikipedia.org/wiki/Lista_de_c%C3%B3digos_de_estado_HTTP\n",
    "\n",
    "http://www.antispam.br/admin/greylisting/\n",
    "\n",
    "https://www.darktrace.com/en/technology/\n",
    "\n",
    "https://jsoneditoronline.org/\n",
    "\n",
    "https://paulovasconcellos.com.br/crisp-dm-semma-e-kdd-conhe%C3%A7a-as-melhores-t%C3%A9cnicas-para-explora%C3%A7%C3%A3o-de-dados-560d294547d2\n",
    "\n",
    "https://www.kaggle.com/jiazhuang/demonstrate-naive-bayes\n",
    "\n",
    "https://westoahu.hawaii.edu/cyber/author/averg/\n",
    "\n",
    "https://pt.wikipedia.org/wiki/Web_analytics\n",
    "\n",
    "https://www.google.com/search?ei=vhyeXLyxFcCj5OUPzYuP8Aw&q=o+que+%C3%A9+um+tracker+hacking&oq=o+que+%C3%A9+um+tracker+hacking&gs_l=psy-ab.3...11601.17722..17868...1.0..0.157.1017.4j5......0....1..gws-wiz.......0i22i30j33i160.JmjXwtUEBTk"
   ]
  }
 ],
 "metadata": {
  "kernelspec": {
   "display_name": "Python 3",
   "language": "python",
   "name": "python3"
  },
  "language_info": {
   "codemirror_mode": {
    "name": "ipython",
    "version": 3
   },
   "file_extension": ".py",
   "mimetype": "text/x-python",
   "name": "python",
   "nbconvert_exporter": "python",
   "pygments_lexer": "ipython3",
   "version": "3.8.3"
  }
 },
 "nbformat": 4,
 "nbformat_minor": 2
}
