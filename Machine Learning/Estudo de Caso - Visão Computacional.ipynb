{
 "cells": [
  {
   "cell_type": "markdown",
   "metadata": {
    "_uuid": "fc7dfa986b2fec6bc5d6607fbc40ef61e4181c3c",
    "slideshow": {
     "slide_type": "slide"
    }
   },
   "source": [
    "<p>&nbsp;</p>\n",
    "</p><h1 style=\"text-align: center;\"><strong>Visão Computacional</strong></h1>\n",
    "<h1 style=\"text-align: center;\"><strong>Estudo de Caso</strong></h1>\n",
    "<p>&nbsp;</p><p>&nbsp;</p><p>&nbsp;</p>"
   ]
  },
  {
   "cell_type": "markdown",
   "metadata": {},
   "source": [
    "**Identificação**:\n",
    "\n",
    "[Colocar Versão]"
   ]
  },
  {
   "cell_type": "markdown",
   "metadata": {},
   "source": [
    "**Atividade**\n",
    "\n",
    "Colocar atividade que esta sendo realizada, onde está e onde parou"
   ]
  },
  {
   "cell_type": "markdown",
   "metadata": {},
   "source": [
    "**Regras:**\n",
    "\n",
    "- Se tiver colocar algo"
   ]
  },
  {
   "cell_type": "markdown",
   "metadata": {},
   "source": [
    "***"
   ]
  },
  {
   "cell_type": "markdown",
   "metadata": {},
   "source": [
    "## Parte I - Inicio"
   ]
  },
  {
   "cell_type": "markdown",
   "metadata": {},
   "source": [
    "#### Imports e Parametros:"
   ]
  },
  {
   "cell_type": "code",
   "execution_count": 17,
   "metadata": {},
   "outputs": [],
   "source": [
    "# Padrões\n",
    "\n",
    "import pandas as pd # data processing\n",
    "pd.set_option('display.max_columns', 100)\n",
    "\n",
    "import numpy as np  # linear algebra\n",
    "pd.options.display.float_format = '{:.2f}'.format\n",
    "\n",
    "import warnings\n",
    "#warnings.filterwarnings(\"ignore\")\n",
    "warnings.filterwarnings(action='ignore', category=DeprecationWarning)\n",
    "\n",
    "# visualização dos dados\n",
    "\n",
    "import matplotlib\n",
    "import matplotlib.pyplot as plt\n",
    "import matplotlib.pylab as pylab\n",
    "from matplotlib import colors\n",
    "import seaborn as sns\n",
    "sns.set_style('darkgrid')\n",
    "\n",
    "# Mapas : Observação testar ver se consegue plotar em cima das telas as informações\n",
    "import folium\n",
    "from folium.plugins import HeatMap\n",
    "\n",
    "# Colocar imports padrões e do OpenCV\n",
    "import cv2 as cv\n",
    "\n",
    "%matplotlib inline"
   ]
  },
  {
   "cell_type": "markdown",
   "metadata": {},
   "source": [
    "#### Carregando dataset:"
   ]
  },
  {
   "cell_type": "markdown",
   "metadata": {},
   "source": [
    "` # OBS: Não sei se vai ser via csv ou via banco`"
   ]
  },
  {
   "cell_type": "code",
   "execution_count": null,
   "metadata": {},
   "outputs": [],
   "source": [
    "# Se for por csv\n",
    "\n",
    "dataset = pd.read_csv('dataset.csv')"
   ]
  },
  {
   "cell_type": "markdown",
   "metadata": {},
   "source": [
    "#### Observando o dataset:"
   ]
  },
  {
   "cell_type": "code",
   "execution_count": null,
   "metadata": {},
   "outputs": [],
   "source": [
    "dataset.head(10)"
   ]
  },
  {
   "cell_type": "markdown",
   "metadata": {},
   "source": [
    "##### O arquivo contém informações sobre o app organizados da seguinte forma:\n",
    "\n",
    "\n",
    "- **Nome da Coluna:** O que contem.\n",
    "\n",
    "\n",
    "- **Exemplo Nome:** Nome.\n",
    "\n",
    "\n",
    "- **Cabine:** Numero da cabine."
   ]
  },
  {
   "cell_type": "markdown",
   "metadata": {},
   "source": [
    "***"
   ]
  },
  {
   "cell_type": "markdown",
   "metadata": {},
   "source": [
    "## Parte II - Conhecendo o dataset"
   ]
  },
  {
   "cell_type": "markdown",
   "metadata": {},
   "source": [
    "#### Analisando as dimensões do dataset:"
   ]
  },
  {
   "cell_type": "code",
   "execution_count": null,
   "metadata": {},
   "outputs": [],
   "source": [
    "print('Linhas do dataset:', dataset.shape[0])\n",
    "print('Colunas do dataset:', dataset.shape[1])"
   ]
  },
  {
   "cell_type": "markdown",
   "metadata": {},
   "source": [
    "Descrever os insights"
   ]
  },
  {
   "cell_type": "markdown",
   "metadata": {},
   "source": [
    "#### Dataset Base - Estatistica descritiva\n",
    "\n",
    "Resumo estatístico do DataFrame, com quartis, mediana, entre outros:"
   ]
  },
  {
   "cell_type": "code",
   "execution_count": null,
   "metadata": {},
   "outputs": [],
   "source": [
    "dataset.describe()"
   ]
  },
  {
   "cell_type": "markdown",
   "metadata": {},
   "source": [
    "####  Dataset Base - Sumário das Features\n",
    "\n",
    "Analisando informações sobre o tipo de dados, incluindo índice e dtipo, tipos de coluna, valores não nulos e uso de memória:"
   ]
  },
  {
   "cell_type": "code",
   "execution_count": null,
   "metadata": {},
   "outputs": [],
   "source": [
    "dataset.info()"
   ]
  },
  {
   "cell_type": "markdown",
   "metadata": {},
   "source": [
    "#### Analisando o tipo dos dados:"
   ]
  },
  {
   "cell_type": "code",
   "execution_count": null,
   "metadata": {},
   "outputs": [],
   "source": [
    "dataset.dtypes"
   ]
  },
  {
   "cell_type": "markdown",
   "metadata": {},
   "source": [
    "#### Verificando o número de valores em cada coluna:"
   ]
  },
  {
   "cell_type": "code",
   "execution_count": null,
   "metadata": {},
   "outputs": [],
   "source": [
    "dataset.count()"
   ]
  },
  {
   "cell_type": "markdown",
   "metadata": {},
   "source": [
    "Aqui veremos colunas menores que as outras. O que significa que existem valores nulos."
   ]
  },
  {
   "cell_type": "markdown",
   "metadata": {},
   "source": [
    "#### Correlação de pares:"
   ]
  },
  {
   "cell_type": "code",
   "execution_count": null,
   "metadata": {},
   "outputs": [],
   "source": [
    "dataset.mean()"
   ]
  },
  {
   "cell_type": "code",
   "execution_count": null,
   "metadata": {},
   "outputs": [],
   "source": [
    "dataset.std()"
   ]
  },
  {
   "cell_type": "code",
   "execution_count": null,
   "metadata": {},
   "outputs": [],
   "source": [
    "dataset.sem()"
   ]
  },
  {
   "cell_type": "markdown",
   "metadata": {},
   "source": [
    "***"
   ]
  },
  {
   "cell_type": "markdown",
   "metadata": {},
   "source": [
    "## Parte III - Dados Geográficos"
   ]
  },
  {
   "cell_type": "markdown",
   "metadata": {},
   "source": [
    "` # OBS: Claro se existirem`"
   ]
  },
  {
   "cell_type": "markdown",
   "metadata": {},
   "source": [
    "#### loc_x, loc_y, lat and lon"
   ]
  },
  {
   "cell_type": "markdown",
   "metadata": {},
   "source": [
    "O que isso significa? que esses nomes podem aparecer como **location_x, location_y, latitude e longitude**. Vamos confirmar essa suposição."
   ]
  },
  {
   "cell_type": "code",
   "execution_count": null,
   "metadata": {},
   "outputs": [],
   "source": [
    "alpha = 0.02\n",
    "plt.figure(figsize=(10,10))\n",
    "\n",
    "# loc_x and loc_y\n",
    "plt.subplot(121)\n",
    "plt.scatter(naonan.loc_x, naonan.loc_y, color='blue', alpha=alpha)\n",
    "plt.title('loc_x e loc_y')\n",
    "\n",
    "# lat and lon\n",
    "plt.subplot(122)\n",
    "plt.scatter(naonan.lon, naonan.lat, color='green', alpha=alpha)\n",
    "plt.title('lat e lon')"
   ]
  },
  {
   "cell_type": "markdown",
   "metadata": {},
   "source": [
    "#### zonas de tiro"
   ]
  },
  {
   "cell_type": "code",
   "execution_count": null,
   "metadata": {},
   "outputs": [],
   "source": [
    "import matplotlib.cm as cm\n",
    "plt.figure(figsize=(20,10))\n",
    "\n",
    "def scatter_plot_by_category(feat):\n",
    "    alpha = 0.5\n",
    "    gs = naonan.groupby(feat)\n",
    "    cs = cm.rainbow(np.linspace(0, 1, len(gs)))\n",
    "    for g, c in zip(gs, cs):\n",
    "        plt.scatter(g[1].loc_x, g[1].loc_y, color=c, alpha=alpha)\n",
    "\n",
    "# shot_zone_area\n",
    "plt.subplot(131)\n",
    "scatter_plot_by_category('shot_zone_area')\n",
    "plt.title('shot_zone_area')\n",
    "\n",
    "# shot_zone_basic\n",
    "plt.subplot(132)\n",
    "scatter_plot_by_category('shot_zone_basic')\n",
    "plt.title('shot_zone_basic')\n",
    "\n",
    "# shot_zone_range\n",
    "plt.subplot(133)\n",
    "scatter_plot_by_category('shot_zone_range')\n",
    "plt.title('shot_zone_range')"
   ]
  },
  {
   "cell_type": "markdown",
   "metadata": {},
   "source": [
    "***"
   ]
  },
  {
   "cell_type": "markdown",
   "metadata": {},
   "source": [
    "## Parte IV - Processando dados Vazios"
   ]
  },
  {
   "cell_type": "markdown",
   "metadata": {},
   "source": [
    "` # OBS: Ver se vai ter esse tipo de coisa no conjunto dos dados`"
   ]
  },
  {
   "cell_type": "markdown",
   "metadata": {},
   "source": [
    "##### Cálculos envolvendo colunas numéricas com dados ausentes podem ser afetados. É possível dizer se há dados ausentes no conjunto de dados? Em caso afirmativo, quais e quantos seriam esses dados? Preencher os dados perdidos de uma forma que não influencie operações futuras."
   ]
  },
  {
   "cell_type": "markdown",
   "metadata": {},
   "source": [
    "#### Verificando dados nulos:"
   ]
  },
  {
   "cell_type": "code",
   "execution_count": null,
   "metadata": {},
   "outputs": [],
   "source": [
    "dataset.isnull()"
   ]
  },
  {
   "cell_type": "markdown",
   "metadata": {},
   "source": [
    "#### Verificando quantidade de dados nulos:"
   ]
  },
  {
   "cell_type": "code",
   "execution_count": null,
   "metadata": {},
   "outputs": [],
   "source": [
    "dataset.isnull.sum()"
   ]
  },
  {
   "cell_type": "markdown",
   "metadata": {},
   "source": [
    ">`OBS: Se existir dados faltantas, que tipo de tratamento pode ter resultado?`\n",
    "\n",
    ">`Aplicar PCA ou TSNE?`\n",
    "\n",
    ">`Dropar esses dados implica em que?`"
   ]
  },
  {
   "cell_type": "markdown",
   "metadata": {},
   "source": [
    "#### Verificando quantidade de dados nulos: "
   ]
  },
  {
   "cell_type": "code",
   "execution_count": null,
   "metadata": {},
   "outputs": [],
   "source": [
    "dataset.isnull.sum()"
   ]
  },
  {
   "cell_type": "markdown",
   "metadata": {},
   "source": [
    "Nos nossos dados de rótulo: provavelmente esses valores NaNs não obrigatoriamente precisam ser deletados, mas para esse análise uma solução seria essa exclusão visto que se colocarmos uma média ou uma moda como informação poderemos estar inviezando as informações. Com isso vamos fazer uma variável sem `NaN` para nossa análise exploratória."
   ]
  },
  {
   "cell_type": "markdown",
   "metadata": {},
   "source": [
    "#### Heatmap"
   ]
  },
  {
   "cell_type": "markdown",
   "metadata": {},
   "source": [
    "Vamos explorar os valores ausentes com um mapa de calor"
   ]
  },
  {
   "cell_type": "code",
   "execution_count": null,
   "metadata": {},
   "outputs": [],
   "source": [
    "sns.heatmap(dataset.isnull())"
   ]
  },
  {
   "cell_type": "markdown",
   "metadata": {},
   "source": [
    "***"
   ]
  },
  {
   "cell_type": "markdown",
   "metadata": {},
   "source": [
    "## Parte V - Recebendo Imagens"
   ]
  },
  {
   "cell_type": "markdown",
   "metadata": {},
   "source": [
    "- Aprender OpenCV, libcvv e ROS"
   ]
  },
  {
   "cell_type": "markdown",
   "metadata": {},
   "source": [
    "***"
   ]
  },
  {
   "cell_type": "markdown",
   "metadata": {},
   "source": [
    "## Parte VI - Processando imagens"
   ]
  },
  {
   "cell_type": "markdown",
   "metadata": {},
   "source": [
    "- Aplicar processo de classificação\n",
    "- Criação das listas\n",
    "- Conversão caso necessária\n",
    "- Estudo de um caso específico\n",
    "- Onde ocorre as ocorrências\n",
    "- Número de ocorrências por razão\n",
    "- Histograma é sempre bom\n",
    "- Dispersão do tráfego de ocorrências\n",
    "- Maiores ocorrências"
   ]
  },
  {
   "cell_type": "markdown",
   "metadata": {},
   "source": [
    "***"
   ]
  },
  {
   "cell_type": "markdown",
   "metadata": {},
   "source": [
    "## Parte VII - Aprendizado de Máquina"
   ]
  },
  {
   "cell_type": "markdown",
   "metadata": {},
   "source": [
    "Antes descobrir que tipo de classificação ou regressão os dados neccesitam. Escolher apenas os modelos certos para teste"
   ]
  },
  {
   "cell_type": "markdown",
   "metadata": {},
   "source": [
    "#### Imports e Parametros:"
   ]
  },
  {
   "cell_type": "code",
   "execution_count": 16,
   "metadata": {},
   "outputs": [],
   "source": [
    "# Modelos\n",
    "from sklearn.linear_model import LogisticRegression\n",
    "from sklearn.naive_bayes import GaussianNB\n",
    "from sklearn.ensemble import RandomForestClassifier\n",
    "from sklearn.ensemble import VotingClassifier\n",
    "from sklearn.ensemble import GradientBoostingClassifier\n",
    "from sklearn.neighbors import KNeighborsClassifier\n",
    "from xgboost import XGBClassifier\n",
    "from sklearn.tree import DecisionTreeClassifier\n",
    "import lightgbm as lgb\n",
    "\n",
    "# Feature Selection\n",
    "from sklearn.model_selection import cross_val_score, train_test_split\n",
    "\n",
    "from sklearn.preprocessing import LabelBinarizer\n",
    "from sklearn.metrics import mean_squared_error\n",
    "\n",
    "# Auxiliary Scores\n",
    "from sklearn.metrics import recall_score\n",
    "from sklearn.metrics import accuracy_score\n",
    "from sklearn.metrics import log_loss\n",
    "from sklearn.metrics import confusion_matrix\n",
    "from sklearn.metrics import precision_score\n",
    "from sklearn.metrics import f1_score"
   ]
  },
  {
   "cell_type": "markdown",
   "metadata": {},
   "source": [
    "- Separação dos Dados para treino e teste\n",
    "- Aplicando Essemble\n",
    "- Testando o Modelo\n",
    "- Predict\n",
    "- Análise Geográfica"
   ]
  },
  {
   "cell_type": "markdown",
   "metadata": {},
   "source": [
    "***"
   ]
  },
  {
   "cell_type": "markdown",
   "metadata": {},
   "source": [
    "## Parte VIII - Classificação"
   ]
  },
  {
   "cell_type": "markdown",
   "metadata": {},
   "source": [
    "- Escolhendo o Melhor Classificador\n",
    "- Ajuste de Parametros\n",
    "- Treinando o Modelo\n",
    "- Predict"
   ]
  },
  {
   "cell_type": "markdown",
   "metadata": {},
   "source": [
    "***"
   ]
  },
  {
   "cell_type": "markdown",
   "metadata": {},
   "source": [
    "## Parte IX - Submissão"
   ]
  },
  {
   "cell_type": "markdown",
   "metadata": {},
   "source": [
    "#### Submissão"
   ]
  },
  {
   "cell_type": "code",
   "execution_count": null,
   "metadata": {},
   "outputs": [],
   "source": [
    "sub = pd.DataFrame({'shot_id': id_test, 'shot_made_flag': y_pred })\n",
    "sub.to_csv(\"submission.csv\", index=False) "
   ]
  },
  {
   "cell_type": "markdown",
   "metadata": {},
   "source": [
    "***"
   ]
  },
  {
   "cell_type": "markdown",
   "metadata": {
    "_uuid": "47659595b1ce849f7ee8030bed5a8820b1df2a0e",
    "slideshow": {
     "slide_type": "slide"
    }
   },
   "source": [
    "<p>&nbsp;</p>\n",
    "<h1 style=\"text-align: center;\"><strong><span lang=\"pt\">CONCLUSÃO</strong></span></h1>\n",
    "<p>&nbsp;</p><p>&nbsp;</p><p>&nbsp;</p>"
   ]
  },
  {
   "cell_type": "markdown",
   "metadata": {
    "_uuid": "841c70f676c39c4f78d2d0fa721493dc7db104be",
    "slideshow": {
     "slide_type": "subslide"
    }
   },
   "source": [
    "Escrever insights para Apresentar Conclusões\n",
    "\n",
    "##### Resultado\n",
    "\n",
    "\n",
    "Ao rodar o algoritmo e criar o .csv para submissão. O mesmo foi submetido para avalicação.\n",
    "\n",
    "Teve como Resultado:\n",
    "\n",
    "- Public Score\n",
    "- Use for Final Score\n",
    "- just now by Bruno Comitre\n",
    "\n",
    "Arquivo: submission.csv\n",
    "\n",
    "Descrição: Teste para Entrega\n",
    "\n",
    "Resultado:0.62840\n",
    "\n",
    "**OBS:** Estudar - Creio que acurácia, f1 não se apliquem aqui. Observar recall "
   ]
  },
  {
   "cell_type": "markdown",
   "metadata": {},
   "source": [
    "***"
   ]
  },
  {
   "cell_type": "markdown",
   "metadata": {
    "_uuid": "5d70049373ea3c0d84229302a9c961af325c3f38",
    "slideshow": {
     "slide_type": "skip"
    }
   },
   "source": [
    "##### VERSÕES INSTALADAS"
   ]
  },
  {
   "cell_type": "code",
   "execution_count": 8,
   "metadata": {
    "_uuid": "69ffdcf74a794ad4fc90e73a9e39e55583aad2d3",
    "scrolled": true
   },
   "outputs": [
    {
     "name": "stdout",
     "output_type": "stream",
     "text": [
      "\n",
      "INSTALLED VERSIONS\n",
      "------------------\n",
      "commit: None\n",
      "python: 3.7.2.final.0\n",
      "python-bits: 64\n",
      "OS: Linux\n",
      "OS-release: 4.18.0-16-generic\n",
      "machine: x86_64\n",
      "processor: x86_64\n",
      "byteorder: little\n",
      "LC_ALL: None\n",
      "LANG: pt_BR.UTF-8\n",
      "LOCALE: pt_BR.UTF-8\n",
      "\n",
      "pandas: 0.24.2\n",
      "pytest: None\n",
      "pip: 19.0.3\n",
      "setuptools: 40.8.0\n",
      "Cython: None\n",
      "numpy: 1.16.2\n",
      "scipy: 1.2.1\n",
      "pyarrow: None\n",
      "xarray: None\n",
      "IPython: 7.3.0\n",
      "sphinx: None\n",
      "patsy: None\n",
      "dateutil: 2.8.0\n",
      "pytz: 2018.9\n",
      "blosc: None\n",
      "bottleneck: None\n",
      "tables: None\n",
      "numexpr: None\n",
      "feather: None\n",
      "matplotlib: 3.0.3\n",
      "openpyxl: None\n",
      "xlrd: None\n",
      "xlwt: None\n",
      "xlsxwriter: None\n",
      "lxml.etree: None\n",
      "bs4: None\n",
      "html5lib: None\n",
      "sqlalchemy: None\n",
      "pymysql: None\n",
      "psycopg2: None\n",
      "jinja2: 2.10\n",
      "s3fs: None\n",
      "fastparquet: None\n",
      "pandas_gbq: None\n",
      "pandas_datareader: None\n",
      "gcsfs: None\n"
     ]
    }
   ],
   "source": [
    "pd.show_versions ()"
   ]
  },
  {
   "cell_type": "markdown",
   "metadata": {
    "_uuid": "c6be27222402c0dfc4b88152ce195702589e31b9"
   },
   "source": [
    "***"
   ]
  }
 ],
 "metadata": {
  "kernelspec": {
   "display_name": "Python 3",
   "language": "python",
   "name": "python3"
  },
  "language_info": {
   "codemirror_mode": {
    "name": "ipython",
    "version": 3
   },
   "file_extension": ".py",
   "mimetype": "text/x-python",
   "name": "python",
   "nbconvert_exporter": "python",
   "pygments_lexer": "ipython3",
   "version": "3.8.3"
  }
 },
 "nbformat": 4,
 "nbformat_minor": 1
}
