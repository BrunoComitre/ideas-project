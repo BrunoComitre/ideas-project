{
 "cells": [
  {
   "cell_type": "markdown",
   "metadata": {},
   "source": [
    "https://www.google.com/search?q=opencv+captcha&oq=opencv+reca&aqs=chrome.1.69i57j0l4.6730j0j4&sourceid=chrome&ie=UTF-8\n",
    "\n",
    "https://www.google.com/recaptcha/intro/v3.html\n",
    "\n",
    "https://www.kaggle.com/fournierp/captcha-version-2-images/discussion/61639\n",
    "\n",
    "https://www.kaggle.com/zhaipro/12306-dataset"
   ]
  },
  {
   "cell_type": "code",
   "execution_count": null,
   "metadata": {},
   "outputs": [],
   "source": [
    "import pytesseract as ocr\n",
    "from PIL import Image\n",
    "import pytesseract\n",
    "import argparse\n",
    "import cv2\n",
    "import os\n",
    "from skimage.filters import threshold_local\n",
    "import numpy as np\n",
    "import argparse\n",
    "import cv2\n",
    "import imutils\n",
    "from imutils.object_detection import non_max_suppression\n",
    "import pytesseract as ocr\n",
    "from PIL import Image"
   ]
  }
 ],
 "metadata": {
  "kernelspec": {
   "display_name": "Python 3",
   "language": "python",
   "name": "python3"
  },
  "language_info": {
   "codemirror_mode": {
    "name": "ipython",
    "version": 3
   },
   "file_extension": ".py",
   "mimetype": "text/x-python",
   "name": "python",
   "nbconvert_exporter": "python",
   "pygments_lexer": "ipython3",
   "version": "3.8.5"
  }
 },
 "nbformat": 4,
 "nbformat_minor": 2
}
