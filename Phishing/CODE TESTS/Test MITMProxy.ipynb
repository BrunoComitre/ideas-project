{
 "cells": [
  {
   "cell_type": "markdown",
   "metadata": {},
   "source": [
    "# Test MITMProxy"
   ]
  },
  {
   "cell_type": "markdown",
   "metadata": {},
   "source": [
    "#### Imports Basics"
   ]
  },
  {
   "cell_type": "code",
   "execution_count": 3,
   "metadata": {},
   "outputs": [],
   "source": [
    "import pytest\n",
    "import pandas as pd\n",
    "import os\n",
    "import typing\n",
    "import contextlib\n",
    "from unittest import mock"
   ]
  },
  {
   "cell_type": "markdown",
   "metadata": {},
   "source": [
    "#### Imports MITM"
   ]
  },
  {
   "cell_type": "code",
   "execution_count": 4,
   "metadata": {},
   "outputs": [],
   "source": [
    "import mitmproxy.exceptions\n",
    "import mitmproxy.types\n",
    "from mitmproxy.test import taddons\n",
    "from mitmproxy.test import tflow\n",
    "from mitmproxy import command\n",
    "from mitmproxy import flow"
   ]
  },
  {
   "cell_type": "markdown",
   "metadata": {},
   "source": [
    "#### Import Test"
   ]
  },
  {
   "cell_type": "code",
   "execution_count": 5,
   "metadata": {},
   "outputs": [
    {
     "ename": "ImportError",
     "evalue": "cannot import name 'test_command' from '__main__' (unknown location)",
     "output_type": "error",
     "traceback": [
      "\u001b[0;31m---------------------------------------------------------------------------\u001b[0m",
      "\u001b[0;31mImportError\u001b[0m                               Traceback (most recent call last)",
      "\u001b[0;32m<ipython-input-5-79844a0869f9>\u001b[0m in \u001b[0;36m<module>\u001b[0;34m\u001b[0m\n\u001b[0;32m----> 1\u001b[0;31m \u001b[0;32mfrom\u001b[0m \u001b[0;34m.\u001b[0m \u001b[0;32mimport\u001b[0m \u001b[0mtest_command\u001b[0m\u001b[0;34m\u001b[0m\u001b[0;34m\u001b[0m\u001b[0m\n\u001b[0m",
      "\u001b[0;31mImportError\u001b[0m: cannot import name 'test_command' from '__main__' (unknown location)"
     ]
    }
   ],
   "source": [
    "from . import test_command"
   ]
  },
  {
   "cell_type": "markdown",
   "metadata": {},
   "source": [
    "***"
   ]
  },
  {
   "cell_type": "markdown",
   "metadata": {},
   "source": [
    "### Só Quero Chorar"
   ]
  },
  {
   "cell_type": "code",
   "execution_count": 6,
   "metadata": {},
   "outputs": [],
   "source": [
    "#import os\n",
    "from mitmproxy import controller, proxy\n",
    "from mitmproxy.proxy.server import ProxyServer\n",
    "\n",
    "from mitmproxy import proxy, options\n",
    "from mitmproxy.tools.dump import DumpMaster\n",
    "from mitmproxy.addons import core"
   ]
  },
  {
   "cell_type": "code",
   "execution_count": 7,
   "metadata": {},
   "outputs": [
    {
     "ename": "AttributeError",
     "evalue": "module 'mitmproxy.controller' has no attribute 'handler'",
     "output_type": "error",
     "traceback": [
      "\u001b[0;31m---------------------------------------------------------------------------\u001b[0m",
      "\u001b[0;31mAttributeError\u001b[0m                            Traceback (most recent call last)",
      "\u001b[0;32m<ipython-input-7-a97b793b8d0e>\u001b[0m in \u001b[0;36m<module>\u001b[0;34m\u001b[0m\n\u001b[0;32m----> 1\u001b[0;31m \u001b[0;32mclass\u001b[0m \u001b[0mAddHeader\u001b[0m\u001b[0;34m(\u001b[0m\u001b[0mcontroller\u001b[0m\u001b[0;34m.\u001b[0m\u001b[0mChannel\u001b[0m\u001b[0;34m)\u001b[0m\u001b[0;34m:\u001b[0m\u001b[0;34m\u001b[0m\u001b[0;34m\u001b[0m\u001b[0m\n\u001b[0m\u001b[1;32m      2\u001b[0m     \u001b[0;32mdef\u001b[0m \u001b[0m__init__\u001b[0m\u001b[0;34m(\u001b[0m\u001b[0mself\u001b[0m\u001b[0;34m,\u001b[0m \u001b[0mserver\u001b[0m\u001b[0;34m)\u001b[0m\u001b[0;34m:\u001b[0m\u001b[0;34m\u001b[0m\u001b[0;34m\u001b[0m\u001b[0m\n\u001b[1;32m      3\u001b[0m         \u001b[0mcontroller\u001b[0m\u001b[0;34m.\u001b[0m\u001b[0mMaster\u001b[0m\u001b[0;34m.\u001b[0m\u001b[0m__init__\u001b[0m\u001b[0;34m(\u001b[0m\u001b[0mself\u001b[0m\u001b[0;34m,\u001b[0m \u001b[0mserver\u001b[0m\u001b[0;34m)\u001b[0m\u001b[0;34m\u001b[0m\u001b[0;34m\u001b[0m\u001b[0m\n\u001b[1;32m      4\u001b[0m         \u001b[0mself\u001b[0m\u001b[0;34m.\u001b[0m\u001b[0mnum\u001b[0m \u001b[0;34m=\u001b[0m \u001b[0;36m0\u001b[0m\u001b[0;34m\u001b[0m\u001b[0;34m\u001b[0m\u001b[0m\n\u001b[1;32m      5\u001b[0m         \u001b[0mself\u001b[0m\u001b[0;34m.\u001b[0m\u001b[0mstickyhosts\u001b[0m \u001b[0;34m=\u001b[0m \u001b[0;34m{\u001b[0m\u001b[0;34m}\u001b[0m\u001b[0;34m\u001b[0m\u001b[0;34m\u001b[0m\u001b[0m\n",
      "\u001b[0;32m<ipython-input-7-a97b793b8d0e>\u001b[0m in \u001b[0;36mAddHeader\u001b[0;34m()\u001b[0m\n\u001b[1;32m     16\u001b[0m             \u001b[0mself\u001b[0m\u001b[0;34m.\u001b[0m\u001b[0mshutdown\u001b[0m\u001b[0;34m(\u001b[0m\u001b[0;34m)\u001b[0m\u001b[0;34m\u001b[0m\u001b[0;34m\u001b[0m\u001b[0m\n\u001b[1;32m     17\u001b[0m \u001b[0;34m\u001b[0m\u001b[0m\n\u001b[0;32m---> 18\u001b[0;31m     \u001b[0;34m@\u001b[0m\u001b[0mcontroller\u001b[0m\u001b[0;34m.\u001b[0m\u001b[0mhandler\u001b[0m\u001b[0;34m\u001b[0m\u001b[0;34m\u001b[0m\u001b[0m\n\u001b[0m\u001b[1;32m     19\u001b[0m     \u001b[0;32mdef\u001b[0m \u001b[0mrequest\u001b[0m\u001b[0;34m(\u001b[0m\u001b[0mself\u001b[0m\u001b[0;34m,\u001b[0m \u001b[0mflow\u001b[0m\u001b[0;34m)\u001b[0m\u001b[0;34m:\u001b[0m\u001b[0;34m\u001b[0m\u001b[0;34m\u001b[0m\u001b[0m\n\u001b[1;32m     20\u001b[0m         \u001b[0mhid\u001b[0m \u001b[0;34m=\u001b[0m \u001b[0;34m(\u001b[0m\u001b[0mflow\u001b[0m\u001b[0;34m.\u001b[0m\u001b[0mrequest\u001b[0m\u001b[0;34m.\u001b[0m\u001b[0mhost\u001b[0m\u001b[0;34m,\u001b[0m \u001b[0mflow\u001b[0m\u001b[0;34m.\u001b[0m\u001b[0mrequest\u001b[0m\u001b[0;34m.\u001b[0m\u001b[0mport\u001b[0m\u001b[0;34m)\u001b[0m\u001b[0;34m\u001b[0m\u001b[0;34m\u001b[0m\u001b[0m\n",
      "\u001b[0;31mAttributeError\u001b[0m: module 'mitmproxy.controller' has no attribute 'handler'"
     ]
    }
   ],
   "source": [
    "class AddHeader(controller.Channel):\n",
    "    def __init__(self, server):\n",
    "        controller.Master.__init__(self, server)\n",
    "        self.num = 0\n",
    "        self.stickyhosts = {}      \n",
    "           \n",
    "    def response(self, flow):\n",
    "        self.num = self.num + 1\n",
    "        print(self.num)\n",
    "        flow.response.headers[\"count\"] = str(self.num)\n",
    "        \n",
    "    def run(self):\n",
    "        try:\n",
    "            return controller.Channel.run(self)\n",
    "        except KeyboardInterrupt:\n",
    "            self.shutdown()\n",
    "            \n",
    "    @controller.handler\n",
    "    def request(self, flow):\n",
    "        hid = (flow.request.host, flow.request.port)\n",
    "        if \"cookie\" in flow.request.headers:\n",
    "            self.stickyhosts[hid] = flow.request.headers.get_all(\"cookie\")\n",
    "        elif hid in self.stickyhosts:\n",
    "            flow.request.headers.set_all(\"cookie\", self.stickyhosts[hid])\n",
    "\n",
    "    @controller.handler\n",
    "    def response(self, flow):\n",
    "        hid = (flow.request.host, flow.request.port)\n",
    "        if \"set-cookie\" in flow.response.headers:\n",
    "            self.stickyhosts[hid] = flow.response.headers.get_all(\"set-cookie\")\n",
    "        \n",
    "        \n",
    "\n",
    "\n",
    "addons = [\n",
    "    AddHeader()\n",
    "]\n",
    "\n",
    "opts = options.Options(listen_host='127.0.0.1', listen_port=8080)\n",
    "pconf = proxy.config.ProxyConfig(opts)\n",
    "\n",
    "m = DumpMaster(None)\n",
    "##m = StickyMaster(server)\n",
    "m.server = proxy.server.ProxyServer(pconf)\n",
    "# print(m.addons)\n",
    "m.addons.add(addons)\n",
    "print(m.addons)\n",
    "# m.addons.add(core.Core())\n",
    "\n",
    "try:\n",
    "    m.run()\n",
    "    ##m.run()\n",
    "except KeyboardInterrupt:\n",
    "    m.shutdown()"
   ]
  },
  {
   "cell_type": "markdown",
   "metadata": {},
   "source": [
    "***"
   ]
  },
  {
   "cell_type": "code",
   "execution_count": null,
   "metadata": {},
   "outputs": [],
   "source": []
  },
  {
   "cell_type": "code",
   "execution_count": null,
   "metadata": {},
   "outputs": [],
   "source": []
  },
  {
   "cell_type": "code",
   "execution_count": 9,
   "metadata": {},
   "outputs": [
    {
     "name": "stdout",
     "output_type": "stream",
     "text": [
      "['<mitmproxy.addons.termlog.TermLog object at 0x7f00a8598550>',\n",
      " '<mitmproxy.addons.termstatus.TermStatus object at 0x7f00a8598588>',\n",
      " '<mitmproxy.addons.core.Core object at 0x7f00a85985c0>',\n",
      " '<mitmproxy.addons.browser.Browser object at 0x7f00a85985f8>',\n",
      " '<mitmproxy.addons.block.Block object at 0x7f00a8598668>',\n",
      " '<mitmproxy.addons.anticache.AntiCache object at 0x7f00a8598630>',\n",
      " '<mitmproxy.addons.anticomp.AntiComp object at 0x7f00a85986d8>',\n",
      " '<mitmproxy.addons.check_ca.CheckCA object at 0x7f00a8598710>',\n",
      " '<mitmproxy.addons.clientplayback.ClientPlayback object at 0x7f00a8598748>',\n",
      " '<mitmproxy.addons.cut.Cut object at 0x7f00a8598860>',\n",
      " '<mitmproxy.addons.disable_h2c.DisableH2C object at 0x7f00a8598898>',\n",
      " '<mitmproxy.addons.export.Export object at 0x7f00a85988d0>',\n",
      " '<mitmproxy.addons.onboarding.Onboarding object at 0x7f00a8598908>',\n",
      " '<mitmproxy.addons.proxyauth.ProxyAuth object at 0x7f00a8598978>',\n",
      " '<mitmproxy.addons.replace.Replace object at 0x7f00a85989e8>',\n",
      " '<mitmproxy.addons.script.ScriptLoader object at 0x7f00a8598a20>',\n",
      " '<mitmproxy.addons.serverplayback.ServerPlayback object at 0x7f00a8598a58>',\n",
      " '<mitmproxy.addons.setheaders.SetHeaders object at 0x7f00a8598a90>',\n",
      " '<mitmproxy.addons.stickyauth.StickyAuth object at 0x7f00a8598ac8>',\n",
      " '<mitmproxy.addons.stickycookie.StickyCookie object at 0x7f00a8598b00>',\n",
      " '<mitmproxy.addons.streambodies.StreamBodies object at 0x7f00a8598b38>',\n",
      " '<mitmproxy.addons.save.Save object at 0x7f00a8598b70>',\n",
      " '<mitmproxy.addons.upstream_auth.UpstreamAuth object at 0x7f00a8598ba8>',\n",
      " '<mitmproxy.addons.dumper.Dumper object at 0x7f00a8598be0>',\n",
      " '<mitmproxy.addons.keepserving.KeepServing object at 0x7f00a85a5080>',\n",
      " '<mitmproxy.addons.readfile.ReadFileStdin object at 0x7f00a85a5240>',\n",
      " '<mitmproxy.tools.dump.ErrorCheck object at 0x7f00a8598518>']\n",
      "['<mitmproxy.addons.termlog.TermLog object at 0x7f00a8598550>',\n",
      " '<mitmproxy.addons.termstatus.TermStatus object at 0x7f00a8598588>',\n",
      " '<mitmproxy.addons.core.Core object at 0x7f00a85985c0>',\n",
      " '<mitmproxy.addons.browser.Browser object at 0x7f00a85985f8>',\n",
      " '<mitmproxy.addons.block.Block object at 0x7f00a8598668>',\n",
      " '<mitmproxy.addons.anticache.AntiCache object at 0x7f00a8598630>',\n",
      " '<mitmproxy.addons.anticomp.AntiComp object at 0x7f00a85986d8>',\n",
      " '<mitmproxy.addons.check_ca.CheckCA object at 0x7f00a8598710>',\n",
      " '<mitmproxy.addons.clientplayback.ClientPlayback object at 0x7f00a8598748>',\n",
      " '<mitmproxy.addons.cut.Cut object at 0x7f00a8598860>',\n",
      " '<mitmproxy.addons.disable_h2c.DisableH2C object at 0x7f00a8598898>',\n",
      " '<mitmproxy.addons.export.Export object at 0x7f00a85988d0>',\n",
      " '<mitmproxy.addons.onboarding.Onboarding object at 0x7f00a8598908>',\n",
      " '<mitmproxy.addons.proxyauth.ProxyAuth object at 0x7f00a8598978>',\n",
      " '<mitmproxy.addons.replace.Replace object at 0x7f00a85989e8>',\n",
      " '<mitmproxy.addons.script.ScriptLoader object at 0x7f00a8598a20>',\n",
      " '<mitmproxy.addons.serverplayback.ServerPlayback object at 0x7f00a8598a58>',\n",
      " '<mitmproxy.addons.setheaders.SetHeaders object at 0x7f00a8598a90>',\n",
      " '<mitmproxy.addons.stickyauth.StickyAuth object at 0x7f00a8598ac8>',\n",
      " '<mitmproxy.addons.stickycookie.StickyCookie object at 0x7f00a8598b00>',\n",
      " '<mitmproxy.addons.streambodies.StreamBodies object at 0x7f00a8598b38>',\n",
      " '<mitmproxy.addons.save.Save object at 0x7f00a8598b70>',\n",
      " '<mitmproxy.addons.upstream_auth.UpstreamAuth object at 0x7f00a8598ba8>',\n",
      " '<mitmproxy.addons.dumper.Dumper object at 0x7f00a8598be0>',\n",
      " '<mitmproxy.addons.keepserving.KeepServing object at 0x7f00a85a5080>',\n",
      " '<mitmproxy.addons.readfile.ReadFileStdin object at 0x7f00a85a5240>',\n",
      " '<mitmproxy.tools.dump.ErrorCheck object at 0x7f00a8598518>',\n",
      " '[<__main__.AddHeader object at 0x7f00a8589828>]']\n"
     ]
    },
    {
     "ename": "RuntimeError",
     "evalue": "Cannot close a running event loop",
     "output_type": "error",
     "traceback": [
      "\u001b[0;31m---------------------------------------------------------------------------\u001b[0m",
      "\u001b[0;31mRuntimeError\u001b[0m                              Traceback (most recent call last)",
      "\u001b[0;32m<ipython-input-9-a2193a14712b>\u001b[0m in \u001b[0;36m<module>\u001b[0;34m\u001b[0m\n\u001b[1;32m     25\u001b[0m \u001b[0;34m\u001b[0m\u001b[0m\n\u001b[1;32m     26\u001b[0m \u001b[0;32mtry\u001b[0m\u001b[0;34m:\u001b[0m\u001b[0;34m\u001b[0m\u001b[0;34m\u001b[0m\u001b[0m\n\u001b[0;32m---> 27\u001b[0;31m     \u001b[0mm\u001b[0m\u001b[0;34m.\u001b[0m\u001b[0mrun\u001b[0m\u001b[0;34m(\u001b[0m\u001b[0;34m)\u001b[0m\u001b[0;34m\u001b[0m\u001b[0;34m\u001b[0m\u001b[0m\n\u001b[0m\u001b[1;32m     28\u001b[0m \u001b[0;32mexcept\u001b[0m \u001b[0mKeyboardInterrupt\u001b[0m\u001b[0;34m:\u001b[0m\u001b[0;34m\u001b[0m\u001b[0;34m\u001b[0m\u001b[0m\n\u001b[1;32m     29\u001b[0m     \u001b[0mm\u001b[0m\u001b[0;34m.\u001b[0m\u001b[0mshutdown\u001b[0m\u001b[0;34m(\u001b[0m\u001b[0;34m)\u001b[0m\u001b[0;34m\u001b[0m\u001b[0;34m\u001b[0m\u001b[0m\n",
      "\u001b[0;32m~/anaconda3/envs/mitm_env/lib/python3.7/site-packages/mitmproxy/master.py\u001b[0m in \u001b[0;36mrun\u001b[0;34m(self, func)\u001b[0m\n\u001b[1;32m    105\u001b[0m     \u001b[0;32mdef\u001b[0m \u001b[0mrun\u001b[0m\u001b[0;34m(\u001b[0m\u001b[0mself\u001b[0m\u001b[0;34m,\u001b[0m \u001b[0mfunc\u001b[0m\u001b[0;34m=\u001b[0m\u001b[0;32mNone\u001b[0m\u001b[0;34m)\u001b[0m\u001b[0;34m:\u001b[0m\u001b[0;34m\u001b[0m\u001b[0;34m\u001b[0m\u001b[0m\n\u001b[1;32m    106\u001b[0m         \u001b[0mloop\u001b[0m \u001b[0;34m=\u001b[0m \u001b[0masyncio\u001b[0m\u001b[0;34m.\u001b[0m\u001b[0mget_event_loop\u001b[0m\u001b[0;34m(\u001b[0m\u001b[0;34m)\u001b[0m\u001b[0;34m\u001b[0m\u001b[0;34m\u001b[0m\u001b[0m\n\u001b[0;32m--> 107\u001b[0;31m         \u001b[0mself\u001b[0m\u001b[0;34m.\u001b[0m\u001b[0mrun_loop\u001b[0m\u001b[0;34m(\u001b[0m\u001b[0mloop\u001b[0m\u001b[0;34m.\u001b[0m\u001b[0mrun_forever\u001b[0m\u001b[0;34m)\u001b[0m\u001b[0;34m\u001b[0m\u001b[0;34m\u001b[0m\u001b[0m\n\u001b[0m\u001b[1;32m    108\u001b[0m \u001b[0;34m\u001b[0m\u001b[0m\n\u001b[1;32m    109\u001b[0m     \u001b[0;32masync\u001b[0m \u001b[0;32mdef\u001b[0m \u001b[0m_shutdown\u001b[0m\u001b[0;34m(\u001b[0m\u001b[0mself\u001b[0m\u001b[0;34m)\u001b[0m\u001b[0;34m:\u001b[0m\u001b[0;34m\u001b[0m\u001b[0;34m\u001b[0m\u001b[0m\n",
      "\u001b[0;32m~/anaconda3/envs/mitm_env/lib/python3.7/site-packages/mitmproxy/master.py\u001b[0m in \u001b[0;36mrun_loop\u001b[0;34m(self, loop)\u001b[0m\n\u001b[1;32m     93\u001b[0m             \u001b[0;32mfor\u001b[0m \u001b[0mp\u001b[0m \u001b[0;32min\u001b[0m \u001b[0masyncio\u001b[0m\u001b[0;34m.\u001b[0m\u001b[0mTask\u001b[0m\u001b[0;34m.\u001b[0m\u001b[0mall_tasks\u001b[0m\u001b[0;34m(\u001b[0m\u001b[0;34m)\u001b[0m\u001b[0;34m:\u001b[0m\u001b[0;34m\u001b[0m\u001b[0;34m\u001b[0m\u001b[0m\n\u001b[1;32m     94\u001b[0m                 \u001b[0mp\u001b[0m\u001b[0;34m.\u001b[0m\u001b[0mcancel\u001b[0m\u001b[0;34m(\u001b[0m\u001b[0;34m)\u001b[0m\u001b[0;34m\u001b[0m\u001b[0;34m\u001b[0m\u001b[0m\n\u001b[0;32m---> 95\u001b[0;31m             \u001b[0mloop\u001b[0m\u001b[0;34m.\u001b[0m\u001b[0mclose\u001b[0m\u001b[0;34m(\u001b[0m\u001b[0;34m)\u001b[0m\u001b[0;34m\u001b[0m\u001b[0;34m\u001b[0m\u001b[0m\n\u001b[0m\u001b[1;32m     96\u001b[0m \u001b[0;34m\u001b[0m\u001b[0m\n\u001b[1;32m     97\u001b[0m         \u001b[0;32mif\u001b[0m \u001b[0mexc\u001b[0m\u001b[0;34m:\u001b[0m  \u001b[0;31m# pragma: no cover\u001b[0m\u001b[0;34m\u001b[0m\u001b[0;34m\u001b[0m\u001b[0m\n",
      "\u001b[0;32m~/anaconda3/envs/mitm_env/lib/python3.7/asyncio/unix_events.py\u001b[0m in \u001b[0;36mclose\u001b[0;34m(self)\u001b[0m\n\u001b[1;32m     53\u001b[0m \u001b[0;34m\u001b[0m\u001b[0m\n\u001b[1;32m     54\u001b[0m     \u001b[0;32mdef\u001b[0m \u001b[0mclose\u001b[0m\u001b[0;34m(\u001b[0m\u001b[0mself\u001b[0m\u001b[0;34m)\u001b[0m\u001b[0;34m:\u001b[0m\u001b[0;34m\u001b[0m\u001b[0;34m\u001b[0m\u001b[0m\n\u001b[0;32m---> 55\u001b[0;31m         \u001b[0msuper\u001b[0m\u001b[0;34m(\u001b[0m\u001b[0;34m)\u001b[0m\u001b[0;34m.\u001b[0m\u001b[0mclose\u001b[0m\u001b[0;34m(\u001b[0m\u001b[0;34m)\u001b[0m\u001b[0;34m\u001b[0m\u001b[0;34m\u001b[0m\u001b[0m\n\u001b[0m\u001b[1;32m     56\u001b[0m         \u001b[0;32mif\u001b[0m \u001b[0;32mnot\u001b[0m \u001b[0msys\u001b[0m\u001b[0;34m.\u001b[0m\u001b[0mis_finalizing\u001b[0m\u001b[0;34m(\u001b[0m\u001b[0;34m)\u001b[0m\u001b[0;34m:\u001b[0m\u001b[0;34m\u001b[0m\u001b[0;34m\u001b[0m\u001b[0m\n\u001b[1;32m     57\u001b[0m             \u001b[0;32mfor\u001b[0m \u001b[0msig\u001b[0m \u001b[0;32min\u001b[0m \u001b[0mlist\u001b[0m\u001b[0;34m(\u001b[0m\u001b[0mself\u001b[0m\u001b[0;34m.\u001b[0m\u001b[0m_signal_handlers\u001b[0m\u001b[0;34m)\u001b[0m\u001b[0;34m:\u001b[0m\u001b[0;34m\u001b[0m\u001b[0;34m\u001b[0m\u001b[0m\n",
      "\u001b[0;32m~/anaconda3/envs/mitm_env/lib/python3.7/asyncio/selector_events.py\u001b[0m in \u001b[0;36mclose\u001b[0;34m(self)\u001b[0m\n\u001b[1;32m     81\u001b[0m     \u001b[0;32mdef\u001b[0m \u001b[0mclose\u001b[0m\u001b[0;34m(\u001b[0m\u001b[0mself\u001b[0m\u001b[0;34m)\u001b[0m\u001b[0;34m:\u001b[0m\u001b[0;34m\u001b[0m\u001b[0;34m\u001b[0m\u001b[0m\n\u001b[1;32m     82\u001b[0m         \u001b[0;32mif\u001b[0m \u001b[0mself\u001b[0m\u001b[0;34m.\u001b[0m\u001b[0mis_running\u001b[0m\u001b[0;34m(\u001b[0m\u001b[0;34m)\u001b[0m\u001b[0;34m:\u001b[0m\u001b[0;34m\u001b[0m\u001b[0;34m\u001b[0m\u001b[0m\n\u001b[0;32m---> 83\u001b[0;31m             \u001b[0;32mraise\u001b[0m \u001b[0mRuntimeError\u001b[0m\u001b[0;34m(\u001b[0m\u001b[0;34m\"Cannot close a running event loop\"\u001b[0m\u001b[0;34m)\u001b[0m\u001b[0;34m\u001b[0m\u001b[0;34m\u001b[0m\u001b[0m\n\u001b[0m\u001b[1;32m     84\u001b[0m         \u001b[0;32mif\u001b[0m \u001b[0mself\u001b[0m\u001b[0;34m.\u001b[0m\u001b[0mis_closed\u001b[0m\u001b[0;34m(\u001b[0m\u001b[0;34m)\u001b[0m\u001b[0;34m:\u001b[0m\u001b[0;34m\u001b[0m\u001b[0;34m\u001b[0m\u001b[0m\n\u001b[1;32m     85\u001b[0m             \u001b[0;32mreturn\u001b[0m\u001b[0;34m\u001b[0m\u001b[0;34m\u001b[0m\u001b[0m\n",
      "\u001b[0;31mRuntimeError\u001b[0m: Cannot close a running event loop"
     ]
    },
    {
     "name": "stderr",
     "output_type": "stream",
     "text": [
      "ERROR:root:Invalid alias: The name clear can't be aliased because it is another magic command.\n",
      "ERROR:root:Invalid alias: The name more can't be aliased because it is another magic command.\n",
      "ERROR:root:Invalid alias: The name less can't be aliased because it is another magic command.\n",
      "ERROR:root:Invalid alias: The name man can't be aliased because it is another magic command.\n"
     ]
    }
   ],
   "source": [
    "class AddHeader:\n",
    "    def __init__(self):\n",
    "        self.num = 0\n",
    "\n",
    "    def response(self, flow):\n",
    "        self.num = self.num + 1\n",
    "        print(self.num)\n",
    "        flow.response.headers[\"count\"] = str(self.num)\n",
    "\n",
    "\n",
    "addons = [\n",
    "    AddHeader()\n",
    "]\n",
    "\n",
    "opts = options.Options(listen_host='127.0.0.1', listen_port=8089)\n",
    "pconf = proxy.config.ProxyConfig(opts)\n",
    "\n",
    "m = DumpMaster(None)\n",
    "##m = StickyMaster(server)\n",
    "m.server = proxy.server.ProxyServer(pconf)\n",
    "print(m.addons)\n",
    "m.addons.add(addons)\n",
    "print(m.addons)\n",
    "#m.addons.add(core.Core())\n",
    "\n",
    "try:\n",
    "    m.run()\n",
    "except KeyboardInterrupt:\n",
    "    m.shutdown()"
   ]
  },
  {
   "cell_type": "markdown",
   "metadata": {},
   "source": [
    "***"
   ]
  },
  {
   "cell_type": "markdown",
   "metadata": {},
   "source": [
    "#### Script Kiddie"
   ]
  },
  {
   "cell_type": "code",
   "execution_count": 1,
   "metadata": {},
   "outputs": [],
   "source": [
    "from mitmproxy import command\n",
    "from mitmproxy import ctx"
   ]
  },
  {
   "cell_type": "code",
   "execution_count": 2,
   "metadata": {},
   "outputs": [],
   "source": [
    "class MyAddon:\n",
    "    def __init__(self):\n",
    "        self.num = 0\n",
    "\n",
    "    @command.command(\"myaddon.inc\")\n",
    "    def inc(self) -> None:\n",
    "        self.num += 1\n",
    "        ctx.log.info(\"num = %s\" % self.num)\n",
    "\n",
    "\n",
    "addons = [\n",
    "    MyAddon()\n",
    "]"
   ]
  },
  {
   "cell_type": "markdown",
   "metadata": {},
   "source": [
    "***"
   ]
  },
  {
   "cell_type": "markdown",
   "metadata": {},
   "source": [
    "#### Def Study"
   ]
  },
  {
   "cell_type": "code",
   "execution_count": 1,
   "metadata": {},
   "outputs": [],
   "source": [
    "class AddHeader:\n",
    "    def response(self, flow):\n",
    "        flow.response.headers[\"newheader\"] = \"foo\"\n",
    "\n",
    "\n",
    "def start():\n",
    "    return AddHeader()"
   ]
  },
  {
   "cell_type": "code",
   "execution_count": 12,
   "metadata": {},
   "outputs": [],
   "source": [
    "@contextlib.contextmanager\n",
    "def chdir(path: str):\n",
    "    old_dir = os.getcwd()\n",
    "    os.chdir(path)\n",
    "    yield\n",
    "    os.chdir(old_dir)"
   ]
  },
  {
   "cell_type": "code",
   "execution_count": 13,
   "metadata": {},
   "outputs": [],
   "source": [
    "def test_bool():\n",
    "    with taddons.context() as tctx:\n",
    "        b = mitmproxy.types._BoolType()\n",
    "        assert b.completion(tctx.master.commands, bool, \"b\") == [\"false\", \"true\"]\n",
    "        assert b.parse(tctx.master.commands, bool, \"true\") is True\n",
    "        assert b.parse(tctx.master.commands, bool, \"false\") is False\n",
    "        assert b.is_valid(tctx.master.commands, bool, True) is True\n",
    "        assert b.is_valid(tctx.master.commands, bool, \"foo\") is False\n",
    "        with pytest.raises(mitmproxy.exceptions.TypeError):\n",
    "            b.parse(tctx.master.commands, bool, \"foo\")"
   ]
  },
  {
   "cell_type": "code",
   "execution_count": 14,
   "metadata": {},
   "outputs": [],
   "source": [
    "def test_str():\n",
    "    with taddons.context() as tctx:\n",
    "        b = mitmproxy.types._StrType()\n",
    "        assert b.is_valid(tctx.master.commands, str, \"foo\") is True\n",
    "        assert b.is_valid(tctx.master.commands, str, 1) is False\n",
    "        assert b.completion(tctx.master.commands, str, \"\") == []\n",
    "        assert b.parse(tctx.master.commands, str, \"foo\") == \"foo\""
   ]
  },
  {
   "cell_type": "code",
   "execution_count": 15,
   "metadata": {},
   "outputs": [],
   "source": [
    "def test_unknown():\n",
    "    with taddons.context() as tctx:\n",
    "        b = mitmproxy.types._UnknownType()\n",
    "        assert b.is_valid(tctx.master.commands, mitmproxy.types.Unknown, \"foo\") is False\n",
    "        assert b.is_valid(tctx.master.commands, mitmproxy.types.Unknown, 1) is False\n",
    "        assert b.completion(tctx.master.commands, mitmproxy.types.Unknown, \"\") == []\n",
    "        assert b.parse(tctx.master.commands, mitmproxy.types.Unknown, \"foo\") == \"foo\""
   ]
  },
  {
   "cell_type": "code",
   "execution_count": 16,
   "metadata": {},
   "outputs": [],
   "source": [
    "def test_int():\n",
    "    with taddons.context() as tctx:\n",
    "        b = mitmproxy.types._IntType()\n",
    "        assert b.is_valid(tctx.master.commands, int, \"foo\") is False\n",
    "        assert b.is_valid(tctx.master.commands, int, 1) is True\n",
    "        assert b.completion(tctx.master.commands, int, \"b\") == []\n",
    "        assert b.parse(tctx.master.commands, int, \"1\") == 1\n",
    "        assert b.parse(tctx.master.commands, int, \"999\") == 999\n",
    "        with pytest.raises(mitmproxy.exceptions.TypeError):\n",
    "            b.parse(tctx.master.commands, int, \"foo\")"
   ]
  },
  {
   "cell_type": "code",
   "execution_count": 18,
   "metadata": {},
   "outputs": [],
   "source": [
    "def test_cmd():\n",
    "    with taddons.context() as tctx:\n",
    "        tctx.master.addons.add(test_command.TAddon())\n",
    "        b = mitmproxy.types._CmdType()\n",
    "        assert b.is_valid(tctx.master.commands, mitmproxy.types.Cmd, \"foo\") is False\n",
    "        assert b.is_valid(tctx.master.commands, mitmproxy.types.Cmd, \"cmd1\") is True\n",
    "        assert b.parse(tctx.master.commands, mitmproxy.types.Cmd, \"cmd1\") == \"cmd1\"\n",
    "        with pytest.raises(mitmproxy.exceptions.TypeError):\n",
    "            assert b.parse(tctx.master.commands, mitmproxy.types.Cmd, \"foo\")\n",
    "        assert len(\n",
    "            b.completion(tctx.master.commands, mitmproxy.types.Cmd, \"\")\n",
    "        ) == len(tctx.master.commands.commands.keys())"
   ]
  },
  {
   "cell_type": "code",
   "execution_count": 20,
   "metadata": {},
   "outputs": [],
   "source": [
    "def test_arg():\n",
    "    with taddons.context() as tctx:\n",
    "        b = mitmproxy.types._ArgType()\n",
    "        assert b.completion(tctx.master.commands, mitmproxy.types.Arg, \"\") == []\n",
    "        assert b.parse(tctx.master.commands, mitmproxy.types.Arg, \"foo\") == \"foo\"\n",
    "        assert b.is_valid(tctx.master.commands, mitmproxy.types.Arg, \"foo\") is True\n",
    "        assert b.is_valid(tctx.master.commands, mitmproxy.types.Arg, 1) is False"
   ]
  },
  {
   "cell_type": "code",
   "execution_count": 21,
   "metadata": {},
   "outputs": [],
   "source": [
    "def test_strseq():\n",
    "    with taddons.context() as tctx:\n",
    "        b = mitmproxy.types._StrSeqType()\n",
    "        assert b.completion(tctx.master.commands, typing.Sequence[str], \"\") == []\n",
    "        assert b.parse(tctx.master.commands, typing.Sequence[str], \"foo\") == [\"foo\"]\n",
    "        assert b.parse(tctx.master.commands, typing.Sequence[str], \"foo,bar\") == [\"foo\", \"bar\"]\n",
    "        assert b.is_valid(tctx.master.commands, typing.Sequence[str], [\"foo\"]) is True\n",
    "        assert b.is_valid(tctx.master.commands, typing.Sequence[str], [\"a\", \"b\", 3]) is False\n",
    "        assert b.is_valid(tctx.master.commands, typing.Sequence[str], 1) is False\n",
    "        assert b.is_valid(tctx.master.commands, typing.Sequence[str], \"foo\") is False"
   ]
  },
  {
   "cell_type": "code",
   "execution_count": 27,
   "metadata": {},
   "outputs": [],
   "source": [
    "def test_typemanager():\n",
    "    assert mitmproxy.types.CommandTypes.get(bool, None)\n",
    "    assert mitmproxy.types.CommandTypes.get(mitmproxy.types.Choice(\"choide\"), None)"
   ]
  },
  {
   "cell_type": "markdown",
   "metadata": {},
   "source": [
    "***"
   ]
  },
  {
   "cell_type": "markdown",
   "metadata": {},
   "source": [
    "#### INSTALLED VERSIONS"
   ]
  },
  {
   "cell_type": "code",
   "execution_count": 10,
   "metadata": {},
   "outputs": [
    {
     "name": "stdout",
     "output_type": "stream",
     "text": [
      "\n",
      "INSTALLED VERSIONS\n",
      "------------------\n",
      "commit: None\n",
      "python: 3.7.2.final.0\n",
      "python-bits: 64\n",
      "OS: Linux\n",
      "OS-release: 4.18.0-16-generic\n",
      "machine: x86_64\n",
      "processor: x86_64\n",
      "byteorder: little\n",
      "LC_ALL: None\n",
      "LANG: pt_BR.UTF-8\n",
      "LOCALE: pt_BR.UTF-8\n",
      "\n",
      "pandas: 0.24.2\n",
      "pytest: 4.3.1\n",
      "pip: 19.0.3\n",
      "setuptools: 40.8.0\n",
      "Cython: None\n",
      "numpy: 1.16.2\n",
      "scipy: None\n",
      "pyarrow: None\n",
      "xarray: None\n",
      "IPython: 7.3.0\n",
      "sphinx: None\n",
      "patsy: None\n",
      "dateutil: 2.8.0\n",
      "pytz: 2018.9\n",
      "blosc: None\n",
      "bottleneck: None\n",
      "tables: None\n",
      "numexpr: None\n",
      "feather: None\n",
      "matplotlib: None\n",
      "openpyxl: None\n",
      "xlrd: None\n",
      "xlwt: None\n",
      "xlsxwriter: None\n",
      "lxml.etree: 4.3.2\n",
      "bs4: None\n",
      "html5lib: None\n",
      "sqlalchemy: None\n",
      "pymysql: None\n",
      "psycopg2: None\n",
      "jinja2: 2.10\n",
      "s3fs: None\n",
      "fastparquet: None\n",
      "pandas_gbq: None\n",
      "pandas_datareader: None\n",
      "gcsfs: None\n"
     ]
    }
   ],
   "source": [
    "pd.show_versions()"
   ]
  },
  {
   "cell_type": "markdown",
   "metadata": {},
   "source": [
    "***"
   ]
  }
 ],
 "metadata": {
  "kernelspec": {
   "display_name": "Python 3",
   "language": "python",
   "name": "python3"
  },
  "language_info": {
   "codemirror_mode": {
    "name": "ipython",
    "version": 3
   },
   "file_extension": ".py",
   "mimetype": "text/x-python",
   "name": "python",
   "nbconvert_exporter": "python",
   "pygments_lexer": "ipython3",
   "version": "3.7.2"
  }
 },
 "nbformat": 4,
 "nbformat_minor": 2
}
