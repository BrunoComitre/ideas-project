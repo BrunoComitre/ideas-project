{
 "cells": [
  {
   "cell_type": "code",
   "execution_count": 3,
   "metadata": {},
   "outputs": [],
   "source": [
    "from mitmproxy import command\n",
    "from mitmproxy import ctx"
   ]
  },
  {
   "cell_type": "code",
   "execution_count": 4,
   "metadata": {},
   "outputs": [],
   "source": [
    "class MyAddon:\n",
    "    def __init__(self):\n",
    "        self.num = 0\n",
    "\n",
    "    @command.command(\"myaddon.inc\")\n",
    "    def inc(self) -> None:\n",
    "        self.num += 1\n",
    "        ctx.log.info(\"num = %s\" % self.num)\n",
    "\n",
    "\n",
    "addons = [\n",
    "    MyAddon()\n",
    "]"
   ]
  }
 ],
 "metadata": {
  "kernelspec": {
   "display_name": "Python 3",
   "language": "python",
   "name": "python3"
  },
  "language_info": {
   "codemirror_mode": {
    "name": "ipython",
    "version": 3
   },
   "file_extension": ".py",
   "mimetype": "text/x-python",
   "name": "python",
   "nbconvert_exporter": "python",
   "pygments_lexer": "ipython3",
   "version": "3.7.2"
  }
 },
 "nbformat": 4,
 "nbformat_minor": 2
}
