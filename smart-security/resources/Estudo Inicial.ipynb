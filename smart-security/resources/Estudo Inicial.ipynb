{
 "cells": [
  {
   "cell_type": "markdown",
   "id": "excessive-population",
   "metadata": {},
   "source": [
    "## Imports"
   ]
  },
  {
   "cell_type": "code",
   "execution_count": 1,
   "id": "hollow-laundry",
   "metadata": {
    "collapsed": true
   },
   "outputs": [
    {
     "name": "stdout",
     "output_type": "stream",
     "text": [
      "Collecting requests\n",
      "  Downloading requests-2.25.1-py2.py3-none-any.whl (61 kB)\n",
      "Requirement already satisfied: certifi>=2017.4.17 in c:\\users\\cliente\\anaconda3\\envs\\smartsecurity\\lib\\site-packages (from requests) (2020.12.5)\n",
      "Collecting chardet<5,>=3.0.2\n",
      "  Downloading chardet-4.0.0-py2.py3-none-any.whl (178 kB)\n",
      "Collecting idna<3,>=2.5\n",
      "  Downloading idna-2.10-py2.py3-none-any.whl (58 kB)\n",
      "Collecting urllib3<1.27,>=1.21.1\n",
      "  Downloading urllib3-1.26.3-py2.py3-none-any.whl (137 kB)\n",
      "Installing collected packages: urllib3, idna, chardet, requests\n",
      "Successfully installed chardet-4.0.0 idna-2.10 requests-2.25.1 urllib3-1.26.3\n"
     ]
    }
   ],
   "source": [
    "!pip install requests"
   ]
  },
  {
   "cell_type": "code",
   "execution_count": 3,
   "id": "commercial-place",
   "metadata": {
    "collapsed": true
   },
   "outputs": [
    {
     "name": "stdout",
     "output_type": "stream",
     "text": [
      "Collecting beautifulsoup4\n",
      "  Downloading beautifulsoup4-4.9.3-py3-none-any.whl (115 kB)\n",
      "Collecting soupsieve>1.2\n",
      "  Downloading soupsieve-2.2-py3-none-any.whl (33 kB)\n",
      "Installing collected packages: soupsieve, beautifulsoup4\n",
      "Successfully installed beautifulsoup4-4.9.3 soupsieve-2.2\n"
     ]
    }
   ],
   "source": [
    "!pip install beautifulsoup4"
   ]
  },
  {
   "cell_type": "code",
   "execution_count": 4,
   "id": "applied-small",
   "metadata": {},
   "outputs": [
    {
     "name": "stdout",
     "output_type": "stream",
     "text": [
      "Collecting selenium\n",
      "  Downloading selenium-3.141.0-py2.py3-none-any.whl (904 kB)\n",
      "Requirement already satisfied: urllib3 in c:\\users\\cliente\\anaconda3\\envs\\smartsecurity\\lib\\site-packages (from selenium) (1.26.3)\n",
      "Installing collected packages: selenium\n",
      "Successfully installed selenium-3.141.0\n"
     ]
    }
   ],
   "source": [
    "!pip install selenium"
   ]
  },
  {
   "cell_type": "code",
   "execution_count": 10,
   "id": "catholic-circle",
   "metadata": {
    "collapsed": true
   },
   "outputs": [
    {
     "name": "stdout",
     "output_type": "stream",
     "text": [
      "Requirement already satisfied: ipython in c:\\users\\cliente\\anaconda3\\envs\\smartsecurity\\lib\\site-packages (7.20.0)\n",
      "Requirement already satisfied: pickleshare in c:\\users\\cliente\\anaconda3\\envs\\smartsecurity\\lib\\site-packages (from ipython) (0.7.5)\n",
      "Requirement already satisfied: traitlets>=4.2 in c:\\users\\cliente\\anaconda3\\envs\\smartsecurity\\lib\\site-packages (from ipython) (5.0.5)\n",
      "Requirement already satisfied: backcall in c:\\users\\cliente\\anaconda3\\envs\\smartsecurity\\lib\\site-packages (from ipython) (0.2.0)\n",
      "Requirement already satisfied: decorator in c:\\users\\cliente\\anaconda3\\envs\\smartsecurity\\lib\\site-packages (from ipython) (4.4.2)\n",
      "Requirement already satisfied: jedi>=0.16 in c:\\users\\cliente\\anaconda3\\envs\\smartsecurity\\lib\\site-packages (from ipython) (0.17.0)\n",
      "Requirement already satisfied: setuptools>=18.5 in c:\\users\\cliente\\anaconda3\\envs\\smartsecurity\\lib\\site-packages (from ipython) (52.0.0.post20210125)\n",
      "Requirement already satisfied: colorama in c:\\users\\cliente\\anaconda3\\envs\\smartsecurity\\lib\\site-packages (from ipython) (0.4.4)\n",
      "Requirement already satisfied: prompt-toolkit!=3.0.0,!=3.0.1,<3.1.0,>=2.0.0 in c:\\users\\cliente\\anaconda3\\envs\\smartsecurity\\lib\\site-packages (from ipython) (3.0.8)\n",
      "Requirement already satisfied: pygments in c:\\users\\cliente\\anaconda3\\envs\\smartsecurity\\lib\\site-packages (from ipython) (2.7.4)\n",
      "Requirement already satisfied: parso>=0.7.0 in c:\\users\\cliente\\anaconda3\\envs\\smartsecurity\\lib\\site-packages (from jedi>=0.16->ipython) (0.8.1)\n",
      "Requirement already satisfied: wcwidth in c:\\users\\cliente\\anaconda3\\envs\\smartsecurity\\lib\\site-packages (from prompt-toolkit!=3.0.0,!=3.0.1,<3.1.0,>=2.0.0->ipython) (0.2.5)\n",
      "Requirement already satisfied: ipython-genutils in c:\\users\\cliente\\anaconda3\\envs\\smartsecurity\\lib\\site-packages (from traitlets>=4.2->ipython) (0.2.0)\n"
     ]
    }
   ],
   "source": [
    "!pip install ipython"
   ]
  },
  {
   "cell_type": "markdown",
   "id": "institutional-bulgarian",
   "metadata": {},
   "source": [
    "## Requests"
   ]
  },
  {
   "cell_type": "code",
   "execution_count": 80,
   "id": "worst-director",
   "metadata": {},
   "outputs": [],
   "source": [
    "import requests\n",
    "\n",
    "from IPython.display import display"
   ]
  },
  {
   "cell_type": "code",
   "execution_count": 81,
   "id": "touched-funeral",
   "metadata": {},
   "outputs": [],
   "source": [
    "import requests\n",
    "\n",
    "url = 'https://dev.to'\n",
    "\n",
    "response = requests.get(url=url)\n",
    "response.raise_for_status() # ensure we notice bad responses"
   ]
  },
  {
   "cell_type": "code",
   "execution_count": 82,
   "id": "mounted-cooler",
   "metadata": {},
   "outputs": [
    {
     "name": "stdout",
     "output_type": "stream",
     "text": [
      "<Response [200]>\n",
      "<class 'requests.models.Response'>\n"
     ]
    }
   ],
   "source": [
    "# Analisando a resposta HTTP\n",
    "\n",
    "print(response)\n",
    "print(type(response))"
   ]
  },
  {
   "cell_type": "code",
   "execution_count": 71,
   "id": "acute-source",
   "metadata": {},
   "outputs": [
    {
     "name": "stdout",
     "output_type": "stream",
     "text": [
      "Status Code >  200 OK\n",
      "Status Code >  200\n",
      "Status Code >  OK\n"
     ]
    }
   ],
   "source": [
    "print('Status Code > ', response.status_code, response.reason)\n",
    "print('Status Code > ', response.status_code)\n",
    "print('Status Code > ', response.reason)"
   ]
  },
  {
   "cell_type": "code",
   "execution_count": 68,
   "id": "liberal-agreement",
   "metadata": {},
   "outputs": [
    {
     "name": "stdout",
     "output_type": "stream",
     "text": [
      "Cabeçalho >  {'Connection': 'keep-alive', 'Content-Length': '43192', 'Server': 'Cowboy', 'X-Frame-Options': 'SAMEORIGIN', 'X-Xss-Protection': '1; mode=block', 'X-Content-Type-Options': 'nosniff', 'X-Download-Options': 'noopen', 'X-Permitted-Cross-Domain-Policies': 'none', 'Referrer-Policy': 'strict-origin-when-cross-origin', 'Cache-Control': 'public, no-cache', 'X-Accel-Expires': '600', 'Content-Type': 'text/html; charset=utf-8', 'Content-Encoding': 'gzip', 'Etag': 'W/\"877c054144a4c7732be249f718f54088\"', 'Content-Security-Policy': '', 'X-Request-Id': '530d51c9-875c-4d83-8501-4234bd2ea59e', 'X-Runtime': '0.049012', 'Via': '1.1 vegur, 1.1 varnish, 1.1 varnish', 'Access-Control-Allow-Origin': '*', 'Accept-Ranges': 'bytes', 'Date': 'Thu, 18 Feb 2021 01:03:47 GMT', 'Age': '17', 'X-Served-By': 'cache-den8264-DEN, cache-gru17122-GRU', 'X-Cache': 'HIT, HIT', 'X-Cache-Hits': '1, 1', 'X-Timer': 'S1613610227.159026,VS0,VE0', 'Vary': 'Accept-Encoding, X-Loggedin'}\n"
     ]
    }
   ],
   "source": [
    "print('Cabeçalho > ', response.headers)"
   ]
  },
  {
   "cell_type": "code",
   "execution_count": 69,
   "id": "bored-bedroom",
   "metadata": {},
   "outputs": [
    {
     "name": "stdout",
     "output_type": "stream",
     "text": [
      "Tipo de Arquivo >  text/html; charset=utf-8\n"
     ]
    }
   ],
   "source": [
    "print('Tipo de Arquivo > ', response.headers['Content-Type'])"
   ]
  },
  {
   "cell_type": "code",
   "execution_count": null,
   "id": "preliminary-shirt",
   "metadata": {},
   "outputs": [],
   "source": []
  },
  {
   "cell_type": "code",
   "execution_count": null,
   "id": "configured-array",
   "metadata": {},
   "outputs": [],
   "source": []
  },
  {
   "cell_type": "code",
   "execution_count": null,
   "id": "proper-thanksgiving",
   "metadata": {},
   "outputs": [],
   "source": []
  },
  {
   "cell_type": "code",
   "execution_count": null,
   "id": "municipal-grove",
   "metadata": {},
   "outputs": [],
   "source": []
  },
  {
   "cell_type": "code",
   "execution_count": 56,
   "id": "popular-relation",
   "metadata": {},
   "outputs": [],
   "source": [
    "with open('1.pdf', 'rb') as file:\n",
    "    response = requests.get(\"https://stackoverflow.com/questions/29092214/python-3-4-importing-a-util-class-from-another-directory\")\n",
    "\n",
    "response.raise_for_status() # ensure we notice bad responses\n",
    "\n",
    "with open(\"out.xls\", \"wb\") as file:\n",
    "    file.write(response.content)"
   ]
  },
  {
   "cell_type": "code",
   "execution_count": 77,
   "id": "binding-reynolds",
   "metadata": {
    "collapsed": true
   },
   "outputs": [
    {
     "ename": "AttributeError",
     "evalue": "'CaseInsensitiveDict' object has no attribute 'json'",
     "output_type": "error",
     "traceback": [
      "\u001b[1;31m---------------------------------------------------------------------------\u001b[0m",
      "\u001b[1;31mAttributeError\u001b[0m                            Traceback (most recent call last)",
      "\u001b[1;32m<ipython-input-77-9c5eb846e266>\u001b[0m in \u001b[0;36m<module>\u001b[1;34m\u001b[0m\n\u001b[0;32m      3\u001b[0m \u001b[1;33m\u001b[0m\u001b[0m\n\u001b[0;32m      4\u001b[0m \u001b[0mresp\u001b[0m \u001b[1;33m=\u001b[0m \u001b[0mrequests\u001b[0m\u001b[1;33m.\u001b[0m\u001b[0mget\u001b[0m\u001b[1;33m(\u001b[0m\u001b[0murl\u001b[0m\u001b[1;33m=\u001b[0m\u001b[0murl\u001b[0m\u001b[1;33m)\u001b[0m\u001b[1;33m\u001b[0m\u001b[1;33m\u001b[0m\u001b[0m\n\u001b[1;32m----> 5\u001b[1;33m \u001b[0mdata\u001b[0m \u001b[1;33m=\u001b[0m \u001b[0mresp\u001b[0m\u001b[1;33m.\u001b[0m\u001b[0mheaders\u001b[0m\u001b[1;33m.\u001b[0m\u001b[0mjson\u001b[0m\u001b[1;33m(\u001b[0m\u001b[1;33m)\u001b[0m \u001b[1;31m# Check the JSON Response Content documentation below\u001b[0m\u001b[1;33m\u001b[0m\u001b[1;33m\u001b[0m\u001b[0m\n\u001b[0m\u001b[0;32m      6\u001b[0m \u001b[0mdata\u001b[0m\u001b[1;33m\u001b[0m\u001b[1;33m\u001b[0m\u001b[0m\n",
      "\u001b[1;31mAttributeError\u001b[0m: 'CaseInsensitiveDict' object has no attribute 'json'"
     ]
    }
   ],
   "source": [
    "url = 'https://stackoverflow.com/questions/29092214/python-3-4-importing-a-util-class-from-another-directory'\n",
    "\n",
    "\n",
    "resp = requests.get(url=url)\n",
    "data = resp.headers.json() # Check the JSON Response Content documentation below\n",
    "data"
   ]
  },
  {
   "cell_type": "code",
   "execution_count": null,
   "id": "worst-stomach",
   "metadata": {},
   "outputs": [],
   "source": []
  },
  {
   "cell_type": "code",
   "execution_count": 96,
   "id": "confidential-bedroom",
   "metadata": {
    "collapsed": true
   },
   "outputs": [
    {
     "data": {
      "text/plain": [
       "{'Connection': 'keep-alive', 'Content-Length': '43133', 'Server': 'Cowboy', 'X-Frame-Options': 'SAMEORIGIN', 'X-Xss-Protection': '1; mode=block', 'X-Content-Type-Options': 'nosniff', 'X-Download-Options': 'noopen', 'X-Permitted-Cross-Domain-Policies': 'none', 'Referrer-Policy': 'strict-origin-when-cross-origin', 'Cache-Control': 'public, no-cache', 'X-Accel-Expires': '600', 'Content-Type': 'text/html; charset=utf-8', 'Content-Encoding': 'gzip', 'Etag': 'W/\"129e30604f9eb5b3db2aa7ad0e873d02\"', 'Content-Security-Policy': '', 'X-Request-Id': 'eec7b9a8-968f-4dd4-bd10-688946e12b90', 'X-Runtime': '0.055288', 'Via': '1.1 vegur, 1.1 varnish, 1.1 varnish', 'Access-Control-Allow-Origin': '*', 'Accept-Ranges': 'bytes', 'Date': 'Thu, 18 Feb 2021 01:31:49 GMT', 'Age': '95', 'X-Served-By': 'cache-den8233-DEN, cache-gru17143-GRU', 'X-Cache': 'HIT, MISS', 'X-Cache-Hits': '1, 0', 'X-Timer': 'S1613611909.442148,VS0,VE322', 'Vary': 'Accept-Encoding, X-Loggedin'}"
      ]
     },
     "execution_count": 96,
     "metadata": {},
     "output_type": "execute_result"
    }
   ],
   "source": [
    "url = 'https://dev.to'\n",
    "\n",
    "response = requests.get(url=url)\n",
    "response.raise_for_status() # ensure we notice bad responses\n",
    "response.headers"
   ]
  },
  {
   "cell_type": "code",
   "execution_count": null,
   "id": "arabic-virgin",
   "metadata": {
    "code_folding": []
   },
   "outputs": [],
   "source": [
    " {\n",
    "   \"Connection\": \"keep-alive\",\n",
    "   \"Content-Length\": \"43192\",\n",
    "   \"Server\": \"Cowboy\",\n",
    "   \"X-Frame-Options\": \"SAMEORIGIN\",\n",
    "   \"X-Xss-Protection\": \"1; mode=block\",\n",
    "   \"X-Content-Type-Options\": \"nosniff\",\n",
    "   \"X-Download-Options\": \"noopen\",\n",
    "   \"X-Permitted-Cross-Domain-Policies\": \"none\",\n",
    "   \"Referrer-Policy\": \"strict-origin-when-cross-origin\",\n",
    "   \"Cache-Control\": \"public, no-cache\",\n",
    "   \"X-Accel-Expires\": \"600\",\n",
    "   \"Content-Type\": \"text/html; charset=utf-8\",\n",
    "   \"Content-Encoding\": \"gzip\",\n",
    "   \"Etag\": \"W/877c054144a4c7732be249f718f54088\",\n",
    "   \"Content-Security-Policy\": \"\",\n",
    "   \"X-Request-Id\": \"530d51c9-875c-4d83-8501-4234bd2ea59e\",\n",
    "   \"X-Runtime\": \"0.049012\",\n",
    "   \"Via\": \"1.1 vegur, 1.1 varnish, 1.1 varnish\",\n",
    "   \"Access-Control-Allow-Origin\": \"*\",\n",
    "   \"Accept-Ranges\": \"bytes\",\n",
    "   \"Date\": \"Thu, 18 Feb 2021 01:03:47 GMT\",\n",
    "   \"Age\": \"17\",\n",
    "   \"X-Served-By\": \"cache-den8264-DEN, cache-gru17122-GRU\",\n",
    "   \"X-Cache\": \"HIT, HIT\",\n",
    "   \"X-Cache-Hits\": \"1, 1\",\n",
    "   \"X-Timer\": \"S1613610227.159026,VS0,VE0\",\n",
    "   \"Vary\": \"Accept-Encoding, X-Loggedin\"\n",
    " }"
   ]
  },
  {
   "cell_type": "code",
   "execution_count": 97,
   "id": "empty-throat",
   "metadata": {
    "collapsed": true
   },
   "outputs": [
    {
     "data": {
      "text/plain": [
       "{'Date': 'Thu, 18 Feb 2021 01:32:27 GMT', 'Content-Type': 'text/html; charset=utf-8', 'Transfer-Encoding': 'chunked', 'Connection': 'keep-alive', 'Set-Cookie': '__cfduid=d95e7257492623659cf7eb490bfb4a7921613611946; expires=Sat, 20-Mar-21 01:32:26 GMT; path=/; domain=.medium.com; HttpOnly; SameSite=Lax, uid=lo_9e02cf51bd1d; Path=/; Domain=medium.com; Expires=Fri, 18 Feb 2022 01:32:26 GMT; HttpOnly; Secure, sid=1:+ZDXSWlA4aZjeUqTiE1wrh2Tm5lXhNAN68EdJOYdVJZejaJ4N3lGrn1aGEOx/3jV; Path=/; Domain=medium.com; Expires=Fri, 18 Feb 2022 01:32:26 GMT; HttpOnly; Secure; SameSite=None, optimizelyEndUserId=lo_9e02cf51bd1d; Path=/; Domain=medium.com; Expires=Fri, 18 Feb 2022 01:32:26 GMT; Secure; SameSite=None, __cfruid=29847c54c857adb5ca8f02d7a06faf12a4a4bb08-1613611947; path=/; domain=.medium.com; HttpOnly; Secure; SameSite=None', 'CF-Ray': '6233fe897d0cf74c-GRU', 'Cache-Control': 'no-cache, no-store, max-age=0, must-revalidate', 'Content-Encoding': 'gzip', 'ETag': 'W/\"2ae03-vlUKvMqYjRppkeXP0U0B4VKftP0\"', 'Strict-Transport-Security': 'max-age=15552000; includeSubDomains; preload', 'Vary': 'Accept-Encoding', 'CF-Cache-Status': 'DYNAMIC', 'cf-request-id': '08545d69e90000f74c5fafe000000001', 'Expect-CT': 'max-age=604800, report-uri=\"https://report-uri.cloudflare.com/cdn-cgi/beacon/expect-ct\"', 'medium-fulfilled-by': 'valencia/main-20210217-182651-fa813b92fa, lite/main-20210217-232251-a2a2801d68, rito/main-20210217-234639-a4061a2836, tutu/main-20210218-003206-1fd7d6e103', 'X-Content-Type-Options': 'nosniff', 'x-envoy-upstream-service-time': '834', 'x-frame-options': 'allow-from medium.com', 'Server': 'cloudflare', 'alt-svc': 'h3-27=\":443\"; ma=86400, h3-28=\":443\"; ma=86400, h3-29=\":443\"; ma=86400'}"
      ]
     },
     "execution_count": 97,
     "metadata": {},
     "output_type": "execute_result"
    }
   ],
   "source": [
    "url = 'https://medium.com/'\n",
    "\n",
    "response = requests.get(url=url)\n",
    "response.raise_for_status() # ensure we notice bad responses\n",
    "response.headers"
   ]
  },
  {
   "cell_type": "code",
   "execution_count": null,
   "id": "german-boards",
   "metadata": {
    "code_folding": []
   },
   "outputs": [],
   "source": [
    " {\n",
    "   \"Date\": \"Thu, 18 Feb 2021 01:15:26 GMT\", \n",
    "   \"Content-Type\": \"text/html; charset=utf-8\",\n",
    "   \"Transfer-Encoding\": \"chunked\",\n",
    "   \"Connection\": \"keep-alive\",\n",
    "   \"Set-Cookie\": \"__cfduid=d7377bcc7e70df5681143a5218c078e261613610925; expires=Sat, 20-Mar-21 01:15:25 GMT; path=/; domain=.medium.com; HttpOnly; SameSite=Lax, uid=lo_f5964d18c910; Path=/; Domain=medium.com; Expires=Fri, 18 Feb 2022 01:15:25 GMT; HttpOnly; Secure, sid=1:97RAG6Xm/Wvnf/nnfWsgiOK7sQ9To0LSTyLg/oOgjIHDRPHEE2gGDMTSflGfYyCO; Path=/; Domain=medium.com; Expires=Fri, 18 Feb 2022 01:15:25 GMT; HttpOnly; Secure; SameSite=None, optimizelyEndUserId=lo_f5964d18c910; Path=/; Domain=medium.com; Expires=Fri, 18 Feb 2022 01:15:25 GMT; Secure; SameSite=None, __cfruid=182fb357f35ada01e4664ed0ca04576d675d521b-1613610926; path=/; domain=.medium.com; HttpOnly; Secure; SameSite=None\",\n",
    "   \"CF-Ray\": \"6233e59d0cd6eeca-GRU\",\n",
    "   \"Cache-Control\": \"no-cache, no-store, max-age=0, must-revalidate\", \n",
    "   \"Content-Encoding\": \"gzip\",\n",
    "   \"ETag\": \"W/2ad82-c29PDxLvCgcZz0Uo5CwJGr9Jz1Y\",\n",
    "   \"Strict-Transport-Security\": \"max-age=15552000; includeSubDomains; preload\", \n",
    "   \"Vary\": \"Accept-Encoding\",\n",
    "   \"CF-Cache-Status\": \"DYNAMIC\",\n",
    "   \"cf-request-id\": \"08544dd6250000eecae18f2000000001\",\n",
    "   \"Expect-CT\": \"max-age=604800, report-uri='https://report-uri.cloudflare.com/cdn-cgi/beacon/expect-ct'\",\n",
    "   \"medium-fulfilled-by\": \"valencia/main-20210217-182651-fa813b92fa, lite/main-20210217-232251-a2a2801d68, rito/main-20210217-234639-a4061a2836, tutu/main-20210217-232944-88ec6cb690\",\n",
    "   \"X-Content-Type-Options\": \"nosniff\",\n",
    "   \"x-envoy-upstream-service-time\": \"927\",\n",
    "   \"x-frame-options\": \"allow-from medium.com\",\n",
    "   \"Server\": \"cloudflare\",\n",
    "   \"alt-svc\": \"h3-27=':443'; ma=86400, h3-28=':443'; ma=86400, h3-29=':443'; ma=86400\"\n",
    " }"
   ]
  },
  {
   "cell_type": "code",
   "execution_count": 94,
   "id": "numerous-shelter",
   "metadata": {
    "collapsed": true
   },
   "outputs": [
    {
     "data": {
      "text/plain": [
       "{'Server': 'nginx', 'Date': 'Thu, 18 Feb 2021 01:30:46 GMT', 'Content-Type': 'text/html; charset=UTF-8', 'Transfer-Encoding': 'chunked', 'Connection': 'keep-alive', 'Vary': 'Accept-Encoding', 'Set-Cookie': 'wp-editormd-lang=pt-BR; path=/', 'X-Pingback': 'https://www.treinaweb.com.br/blog/wp/xmlrpc.php', 'Link': '<https://www.treinaweb.com.br/blog/?p=17590>; rel=shortlink', 'Strict-Transport-Security': 'max-age=63072000', 'X-Frame-Options': 'sameorigin', 'X-Content-Type-Options': 'nosniff', 'X-XSS-Protection': '1; mode=block', 'Referrer-Policy': 'origin-when-cross-origin', 'Content-Security-Policy': \"default-src https: wss: blob:; script-src https: wss: blob: 'unsafe-inline' 'unsafe-eval'; style-src https: 'unsafe-inline'; img-src https: data: blob:; font-src https: data:;\", 'Content-Encoding': 'gzip'}"
      ]
     },
     "execution_count": 94,
     "metadata": {},
     "output_type": "execute_result"
    }
   ],
   "source": [
    "url = 'https://www.treinaweb.com.br/blog/consumindo-apis-com-python-parte-1/'\n",
    "\n",
    "response = requests.get(url=url)\n",
    "response.raise_for_status() # ensure we notice bad responses\n",
    "response.headers"
   ]
  },
  {
   "cell_type": "code",
   "execution_count": null,
   "id": "divine-silicon",
   "metadata": {
    "code_folding": []
   },
   "outputs": [],
   "source": [
    "{\n",
    "  \"Server\": \"nginx\",\n",
    "  \"Date\": \"Thu, 18 Feb 2021 01:30:46 GMT\",\n",
    "  \"Content-Type\": \"text/html; charset=UTF-8\",\n",
    "  \"Transfer-Encoding\": \"chunked\",\n",
    "  \"Connection\": \"keep-alive\",\n",
    "  \"Vary\": \"Accept-Encoding\",\n",
    "  \"Set-Cookie\": \"wp-editormd-lang=pt-BR; path=/\",\n",
    "  \"X-Pingback\": \"https://www.treinaweb.com.br/blog/wp/xmlrpc.php\",\n",
    "  \"Link\": \"<https://www.treinaweb.com.br/blog/?p=17590>; rel=shortlink\",\n",
    "  \"Strict-Transport-Security\": \"max-age=63072000\",\n",
    "  \"X-Frame-Options\": \"sameorigin\",\n",
    "  \"X-Content-Type-Options\": \"nosniff\",\n",
    "  \"X-XSS-Protection\": \"1; mode=block\",\n",
    "  \"Referrer-Policy\": \"origin-when-cross-origin\",\n",
    "  \"Content-Security-Policy\": \"default-src https: wss: blob:; script-src https: wss: blob: 'unsafe-inline' 'unsafe-eval'; style-src https: 'unsafe-inline'; img-src https: data: blob:; font-src https: data:;\",\n",
    "  \"Content-Encoding\": \"gzip\"\n",
    "}"
   ]
  },
  {
   "cell_type": "code",
   "execution_count": 95,
   "id": "dress-display",
   "metadata": {
    "collapsed": true
   },
   "outputs": [
    {
     "data": {
      "text/plain": [
       "{'Server': 'Cowboy', 'Connection': 'close', 'Date': 'Thu, 18 Feb 2021 01:31:18 GMT', 'Status': '200 OK', 'Referrer-Policy': 'strict-origin-when-cross-origin', 'Strict-Transport-Security': 'max-age=631139040', 'X-Frame-Options': 'DENY', 'Content-Security-Policy': \"default-src 'self'; font-src https://github-atom-io-herokuapp-com.freetls.fastly.net https://github-atom-io-herokuapp-com.global.ssl.fastly.net; frame-src 'self' https://www.youtube.com; img-src https: 'self' https://github-atom-io-herokuapp-com.freetls.fastly.net data:; media-src 'self'; object-src 'self' https://github-atom-io-herokuapp-com.freetls.fastly.net; script-src 'self' 'unsafe-inline' https://platform.twitter.com https://github-atom-io-herokuapp-com.freetls.fastly.net; style-src 'self' 'unsafe-inline' https://github-atom-io-herokuapp-com.freetls.fastly.net;\", 'X-Xss-Protection': '1; mode=block', 'X-Content-Type-Options': 'nosniff', 'X-Download-Options': 'noopen', 'X-Permitted-Cross-Domain-Policies': 'none', 'Content-Type': 'text/html; charset=utf-8', 'Etag': 'W/\"7b3aaa86b8af68d2ecfcb4d2eaa4b4d7\"', 'Cache-Control': 'max-age=0, private, must-revalidate', 'Set-Cookie': '_atom_io_session=FlUXLE9vmCX%2B57KbQsM6J3uVmcl1KghsgVi2d1E4v0yWLQ%2F4h9AiPPdjLGg%2BH4OYBRN6Esa3H4XCN%2FyPAZTRBVdtUq4%2BlMdOvx5tsdQn7%2BYHELr%2FOBfvZHotzKkgBgmDqEYxlrOHY%2BRiipOud2Q3aeod%2FjqGpJD2IqZQ54s%2FQOvU1w%3D%3D--8UrB1cDMc6Or2o1d--slEp0Ls1V0hwe22jyinePw%3D%3D; path=/; secure; HttpOnly', 'X-Request-Id': '5e60deae-9149-4f1b-957b-51216095365f', 'X-Runtime': '0.052057', 'X-Rack-Cache': 'miss', 'Vary': 'Accept-Encoding', 'Content-Encoding': 'gzip', 'Via': '1.1 vegur'}"
      ]
     },
     "execution_count": 95,
     "metadata": {},
     "output_type": "execute_result"
    }
   ],
   "source": [
    "url = 'https://atom.io/'\n",
    "\n",
    "response = requests.get(url=url)\n",
    "response.raise_for_status() # ensure we notice bad responses\n",
    "response.headers"
   ]
  },
  {
   "cell_type": "code",
   "execution_count": null,
   "id": "valid-generic",
   "metadata": {
    "code_folding": []
   },
   "outputs": [],
   "source": [
    "{\n",
    "  \"Server\": \"Cowboy\",\n",
    "  \"Connection\": \"close\",\n",
    "  \"Date\": \"Thu, 18 Feb 2021 01:31:18 GMT\",\n",
    "  \"Status\": \"200 OK\",\n",
    "  \"Referrer-Policy\": \"strict-origin-when-cross-origin\",\n",
    "  \"Strict-Transport-Security\": \"max-age=631139040\",\n",
    "  \"X-Frame-Options\": \"DENY\",\n",
    "  \"Content-Security-Policy\": \"default-srls.fastly.net;\",\n",
    "  \"X-Xss-Protection\": \"1; mode=block\",\n",
    "  \"X-Content-Type-Options\": \"nosniff\",\n",
    "  \"X-Download-Options\": \"noopen\",\n",
    "  \"X-Permitted-Cross-Domain-Policies\": \"none\",\n",
    "  \"Content-Type\": \"text/html; charset=utf-8\",\n",
    "  \"Etag\": \"W/7b3aaa86b8af68d2ecfcb4d2eaa4b4d7\",\n",
    "  \"Cache-Control\": \"max-age=0, private, must-revalidate\",\n",
    "  \"Set-Cookie\": \"_atom_io_session=FlUXLE9vmCX%2B57KbQsM6J3uVmclots1V0hwe22jyinePw%3D%3D; path=/; secure; HttpOnly\",\n",
    "  \"X-Request-Id\": \"5e60deae-9149-4f1b-957b-51216095365f\",\n",
    "  \"X-Runtime\": \"0.052057\",\n",
    "  \"X-Rack-Cache\": \"miss\",\n",
    "  \"Vary\": \"Accept-Encoding\",\n",
    "  \"Content-Encoding\": \"gzip\",\n",
    "  \"Via\": \"1.1 vegur\"\n",
    "}"
   ]
  },
  {
   "cell_type": "code",
   "execution_count": null,
   "id": "unlike-monitor",
   "metadata": {},
   "outputs": [],
   "source": []
  },
  {
   "cell_type": "code",
   "execution_count": null,
   "id": "thirty-license",
   "metadata": {},
   "outputs": [],
   "source": [
    "# Aparece\n",
    "\n",
    "# Aparece 4 vezes\n",
    "{\n",
    "  \"Date\": \"Thu, 18 Feb 2021 01:15:26 GMT\", \n",
    "  \"Content-Type\": \"text/html; charset=utf-8\",\n",
    "  \"Connection\": \"keep-alive\",\n",
    "  \"Content-Encoding\": \"gzip\",\n",
    "  \"Vary\": \"Accept-Encoding, X-Loggedin\",\n",
    "  \"X-Content-Type-Options\": \"nosniff\",\n",
    "  \"Server\": \"Cowboy\",\n",
    "}\n",
    "  \n",
    "# Aparece 3 vezes\n",
    "{\n",
    "  \"Strict-Transport-Security\": \"max-age=63072000\",\n",
    "  \"X-Frame-Options\": \"sameorigin\",\n",
    "  \"Referrer-Policy\": \"origin-when-cross-origin\",\n",
    "  \"Content-Security-Policy\": \"default-src https: data:;\",\n",
    "  \"X-Xss-Protection\": \"1; mode=block\",\n",
    "  \"Cache-Control\": \"public, no-cache\",\n",
    "  \"Etag\": \"W/877c054144a4c7732be249f718f54088\",\n",
    "}\n",
    "\n",
    "# Aparece 2 vezes\n",
    "{\n",
    "  \"Transfer-Encoding\": \"chunked\",\n",
    "  \"Set-Cookie\": \"wp-editormd-lang=pt-BR; path=/\",\n",
    "  \"X-Download-Options\": \"noopen\",\n",
    "  \"X-Permitted-Cross-Domain-Policies\": \"none\",\n",
    "  \"X-Request-Id\": \"5e60deae-9149-4f1b-957b-51216095365f\",\n",
    "  \"Via\": \"1.1 vegur\"\n",
    "  \"X-Runtime\": \"0.052057\",  \n",
    "}\n",
    "\n",
    "# Aparece 1 vez\n",
    "{\n",
    "  \"X-Pingback\": \"https://www.treinaweb.com.br/blog/wp/xmlrpc.php\",\n",
    "  \"Link\": \"<https://www.treinaweb.com.br/blog/?p=17590>; rel=shortlink\",\n",
    "  \"X-XSS-Protection\": \"1; mode=block\",\n",
    "  \"Status\": \"200 OK\",\n",
    "  \"X-Rack-Cache\": \"miss\",\n",
    "  \"Content-Length\": \"43192\",\n",
    "  \"X-Accel-Expires\": \"600\",\n",
    "  \"Access-Control-Allow-Origin\": \"*\",\n",
    "  \"Accept-Ranges\": \"bytes\",\n",
    "  \"Age\": \"17\",\n",
    "  \"X-Served-By\": \"cache-den8264-DEN, cache-gru17122-GRU\",\n",
    "  \"X-Cache\": \"HIT, HIT\",\n",
    "  \"X-Cache-Hits\": \"1, 1\",\n",
    "  \"X-Timer\": \"S1613610227.159026,VS0,VE0\",\n",
    "  \"Vary\": \"Accept-Encoding, X-Loggedin\"\n",
    "  \"CF-Ray\": \"6233e59d0cd6eeca-GRU\",\n",
    "  \"CF-Cache-Status\": \"DYNAMIC\",\n",
    "  \"cf-request-id\": \"08544dd6250000eecae18f2000000001\",\n",
    "  \"Expect-CT\": \"max-age=604800, report-uri=\",\n",
    "  \"medium-fulfilled-by\": \"valencia/main-39-a4a2836, tutu/main-20210217-232944-88ec6cb690\",\n",
    "  \"x-envoy-upstream-service-time\": \"927\",\n",
    "  \"x-frame-options\": \"allow-from medium.com\",\n",
    "  \"alt-svc\": \"h3-27=':443'; ma=86400, h3-28=':443'; ma=86400, h3-29=':443'; ma=86400\"\n",
    " }"
   ]
  },
  {
   "cell_type": "code",
   "execution_count": null,
   "id": "electrical-blame",
   "metadata": {},
   "outputs": [],
   "source": []
  },
  {
   "cell_type": "markdown",
   "id": "lucky-tomorrow",
   "metadata": {},
   "source": [
    "Com base nisso extrair os dados com certo padrao ou ver qual mais aparece e deixar geral\n",
    "\n",
    "Na verdade o que fiz acima esta errado eu como cientista de dado devo extrair tudo e compararar quais tags mais aparecem\n",
    "e esse será o primeiro passo após extrair dados..\n",
    "\n",
    "mas ai o que faço ? eu ignoro a estrutura que criei ou reutilizo ela\n",
    "\n",
    "entender melhor ver os links de cabeçalhos http e entender melhor"
   ]
  },
  {
   "cell_type": "code",
   "execution_count": null,
   "id": "extreme-reality",
   "metadata": {},
   "outputs": [],
   "source": []
  }
 ],
 "metadata": {
  "kernelspec": {
   "display_name": "Python 3",
   "language": "python",
   "name": "python3"
  },
  "language_info": {
   "codemirror_mode": {
    "name": "ipython",
    "version": 3
   },
   "file_extension": ".py",
   "mimetype": "text/x-python",
   "name": "python",
   "nbconvert_exporter": "python",
   "pygments_lexer": "ipython3",
   "version": "3.8.5"
  }
 },
 "nbformat": 4,
 "nbformat_minor": 5
}
